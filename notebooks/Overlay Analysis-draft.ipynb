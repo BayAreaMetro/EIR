{
 "cells": [
  {
   "cell_type": "code",
   "execution_count": 1,
   "metadata": {},
   "outputs": [
    {
     "ename": "ModuleNotFoundError",
     "evalue": "No module named 'fiona'",
     "output_type": "error",
     "traceback": [
      "\u001b[1;31m---------------------------------------------------------------------------\u001b[0m",
      "\u001b[1;31mModuleNotFoundError\u001b[0m                       Traceback (most recent call last)",
      "\u001b[1;32m<ipython-input-1-4d6289110897>\u001b[0m in \u001b[0;36m<module>\u001b[1;34m\u001b[0m\n\u001b[0;32m      2\u001b[0m \u001b[0msys\u001b[0m\u001b[1;33m.\u001b[0m\u001b[0mpath\u001b[0m\u001b[1;33m.\u001b[0m\u001b[0minsert\u001b[0m\u001b[1;33m(\u001b[0m\u001b[1;36m0\u001b[0m\u001b[1;33m,\u001b[0m \u001b[1;34m'../'\u001b[0m\u001b[1;33m)\u001b[0m\u001b[1;33m\u001b[0m\u001b[1;33m\u001b[0m\u001b[0m\n\u001b[0;32m      3\u001b[0m \u001b[0msys\u001b[0m\u001b[1;33m.\u001b[0m\u001b[0mpath\u001b[0m\u001b[1;33m.\u001b[0m\u001b[0minsert\u001b[0m\u001b[1;33m(\u001b[0m\u001b[1;36m0\u001b[0m\u001b[1;33m,\u001b[0m \u001b[1;34m'../../'\u001b[0m\u001b[1;33m)\u001b[0m\u001b[1;33m\u001b[0m\u001b[1;33m\u001b[0m\u001b[0m\n\u001b[1;32m----> 4\u001b[1;33m \u001b[1;32mfrom\u001b[0m \u001b[0mEIR_overlay_analysis\u001b[0m \u001b[1;32mimport\u001b[0m \u001b[1;33m*\u001b[0m\u001b[1;33m\u001b[0m\u001b[1;33m\u001b[0m\u001b[0m\n\u001b[0m\u001b[0;32m      5\u001b[0m \u001b[1;32mimport\u001b[0m \u001b[0mpyproj\u001b[0m\u001b[1;33m\u001b[0m\u001b[1;33m\u001b[0m\u001b[0m\n",
      "\u001b[1;32m~\\Documents\\GitHub\\EIR\\notebooks\\EIR_overlay_analysis.py\u001b[0m in \u001b[0;36m<module>\u001b[1;34m\u001b[0m\n\u001b[0;32m      7\u001b[0m \"\"\"\n\u001b[0;32m      8\u001b[0m \u001b[1;33m\u001b[0m\u001b[0m\n\u001b[1;32m----> 9\u001b[1;33m \u001b[1;32mfrom\u001b[0m \u001b[0mEIR_utils\u001b[0m \u001b[1;32mimport\u001b[0m \u001b[1;33m*\u001b[0m\u001b[1;33m\u001b[0m\u001b[1;33m\u001b[0m\u001b[0m\n\u001b[0m\u001b[0;32m     10\u001b[0m \u001b[1;33m\u001b[0m\u001b[0m\n\u001b[0;32m     11\u001b[0m \u001b[0moverlay_output_dir\u001b[0m \u001b[1;33m=\u001b[0m \u001b[1;34m'overlay_outputs'\u001b[0m\u001b[1;33m\u001b[0m\u001b[1;33m\u001b[0m\u001b[0m\n",
      "\u001b[1;32m~\\Documents\\GitHub\\EIR\\notebooks\\EIR_utils.py\u001b[0m in \u001b[0;36m<module>\u001b[1;34m\u001b[0m\n\u001b[0;32m      6\u001b[0m \u001b[1;32mfrom\u001b[0m \u001b[0mutils_io\u001b[0m \u001b[1;32mimport\u001b[0m \u001b[1;33m*\u001b[0m\u001b[1;33m\u001b[0m\u001b[1;33m\u001b[0m\u001b[0m\n\u001b[0;32m      7\u001b[0m \u001b[1;33m\u001b[0m\u001b[0m\n\u001b[1;32m----> 8\u001b[1;33m \u001b[1;32mimport\u001b[0m \u001b[0mfiona\u001b[0m\u001b[1;33m\u001b[0m\u001b[1;33m\u001b[0m\u001b[0m\n\u001b[0m\u001b[0;32m      9\u001b[0m \u001b[1;32mimport\u001b[0m \u001b[0mgeopandas\u001b[0m \u001b[1;32mas\u001b[0m \u001b[0mgpd\u001b[0m\u001b[1;33m\u001b[0m\u001b[1;33m\u001b[0m\u001b[0m\n\u001b[0;32m     10\u001b[0m \u001b[1;31m# import pyproj\u001b[0m\u001b[1;33m\u001b[0m\u001b[1;33m\u001b[0m\u001b[1;33m\u001b[0m\u001b[0m\n",
      "\u001b[1;31mModuleNotFoundError\u001b[0m: No module named 'fiona'"
     ]
    }
   ],
   "source": [
    "import sys\n",
    "sys.path.insert(0, '../')\n",
    "sys.path.insert(0, '../../')\n",
    "from EIR_overlay_analysis import *\n",
    "import pyproj"
   ]
  },
  {
   "cell_type": "code",
   "execution_count": 32,
   "metadata": {},
   "outputs": [],
   "source": [
    "layer = 'doc_farmland_mapping_and_monitoring_program_2018'"
   ]
  },
  {
   "cell_type": "code",
   "execution_count": 33,
   "metadata": {},
   "outputs": [],
   "source": [
    "data_inventory = load_data_inventory()\n",
    "fname, colname = load_inventory_row(layer, data_inventory)"
   ]
  },
  {
   "cell_type": "code",
   "execution_count": 19,
   "metadata": {},
   "outputs": [
    {
     "ename": "RuntimeError",
     "evalue": "b'no arguments in initialization list'",
     "output_type": "error",
     "traceback": [
      "\u001b[1;31m---------------------------------------------------------------------------\u001b[0m",
      "\u001b[1;31mRuntimeError\u001b[0m                              Traceback (most recent call last)",
      "\u001b[1;32m<ipython-input-19-526e65565c3a>\u001b[0m in \u001b[0;36m<module>\u001b[1;34m\u001b[0m\n\u001b[1;32m----> 1\u001b[1;33m \u001b[0mdf\u001b[0m \u001b[1;33m=\u001b[0m \u001b[0mload_overlay_file\u001b[0m\u001b[1;33m(\u001b[0m\u001b[0mfname\u001b[0m\u001b[1;33m,\u001b[0m \u001b[0mlayer\u001b[0m\u001b[1;33m)\u001b[0m\u001b[1;33m\u001b[0m\u001b[1;33m\u001b[0m\u001b[0m\n\u001b[0m",
      "\u001b[1;32m/Users/ywang/Documents/GitHub/EIR/notebooks\\EIR_overlay_analysis.py\u001b[0m in \u001b[0;36mload_overlay_file\u001b[1;34m(fname, layer)\u001b[0m\n\u001b[0;32m     20\u001b[0m                          \u001b[0mlayer\u001b[0m\u001b[1;33m=\u001b[0m\u001b[0mlayer\u001b[0m\u001b[1;33m,\u001b[0m\u001b[1;33m\u001b[0m\u001b[1;33m\u001b[0m\u001b[0m\n\u001b[0;32m     21\u001b[0m                          driver='FileGDB')\n\u001b[1;32m---> 22\u001b[1;33m     \u001b[0mdf\u001b[0m \u001b[1;33m=\u001b[0m \u001b[0mdf\u001b[0m\u001b[1;33m.\u001b[0m\u001b[0mto_crs\u001b[0m\u001b[1;33m(\u001b[0m\u001b[1;34m'EPSG:32610'\u001b[0m\u001b[1;33m)\u001b[0m\u001b[1;33m\u001b[0m\u001b[1;33m\u001b[0m\u001b[0m\n\u001b[0m\u001b[0;32m     23\u001b[0m     \u001b[1;32mreturn\u001b[0m \u001b[0mdf\u001b[0m\u001b[1;33m\u001b[0m\u001b[1;33m\u001b[0m\u001b[0m\n\u001b[0;32m     24\u001b[0m \u001b[1;33m\u001b[0m\u001b[0m\n",
      "\u001b[1;32m~\\Anaconda3\\lib\\site-packages\\geopandas\\geodataframe.py\u001b[0m in \u001b[0;36mto_crs\u001b[1;34m(self, crs, epsg, inplace)\u001b[0m\n\u001b[0;32m    532\u001b[0m         \u001b[1;32melse\u001b[0m\u001b[1;33m:\u001b[0m\u001b[1;33m\u001b[0m\u001b[1;33m\u001b[0m\u001b[0m\n\u001b[0;32m    533\u001b[0m             \u001b[0mdf\u001b[0m \u001b[1;33m=\u001b[0m \u001b[0mself\u001b[0m\u001b[1;33m.\u001b[0m\u001b[0mcopy\u001b[0m\u001b[1;33m(\u001b[0m\u001b[1;33m)\u001b[0m\u001b[1;33m\u001b[0m\u001b[1;33m\u001b[0m\u001b[0m\n\u001b[1;32m--> 534\u001b[1;33m         \u001b[0mgeom\u001b[0m \u001b[1;33m=\u001b[0m \u001b[0mdf\u001b[0m\u001b[1;33m.\u001b[0m\u001b[0mgeometry\u001b[0m\u001b[1;33m.\u001b[0m\u001b[0mto_crs\u001b[0m\u001b[1;33m(\u001b[0m\u001b[0mcrs\u001b[0m\u001b[1;33m=\u001b[0m\u001b[0mcrs\u001b[0m\u001b[1;33m,\u001b[0m \u001b[0mepsg\u001b[0m\u001b[1;33m=\u001b[0m\u001b[0mepsg\u001b[0m\u001b[1;33m)\u001b[0m\u001b[1;33m\u001b[0m\u001b[1;33m\u001b[0m\u001b[0m\n\u001b[0m\u001b[0;32m    535\u001b[0m         \u001b[0mdf\u001b[0m\u001b[1;33m.\u001b[0m\u001b[0mgeometry\u001b[0m \u001b[1;33m=\u001b[0m \u001b[0mgeom\u001b[0m\u001b[1;33m\u001b[0m\u001b[1;33m\u001b[0m\u001b[0m\n\u001b[0;32m    536\u001b[0m         \u001b[0mdf\u001b[0m\u001b[1;33m.\u001b[0m\u001b[0mcrs\u001b[0m \u001b[1;33m=\u001b[0m \u001b[0mgeom\u001b[0m\u001b[1;33m.\u001b[0m\u001b[0mcrs\u001b[0m\u001b[1;33m\u001b[0m\u001b[1;33m\u001b[0m\u001b[0m\n",
      "\u001b[1;32m~\\Anaconda3\\lib\\site-packages\\geopandas\\geoseries.py\u001b[0m in \u001b[0;36mto_crs\u001b[1;34m(self, crs, epsg)\u001b[0m\n\u001b[0;32m    422\u001b[0m         \u001b[1;32melse\u001b[0m\u001b[1;33m:\u001b[0m\u001b[1;33m\u001b[0m\u001b[1;33m\u001b[0m\u001b[0m\n\u001b[0;32m    423\u001b[0m             \u001b[0mproj_in\u001b[0m \u001b[1;33m=\u001b[0m \u001b[0mpyproj\u001b[0m\u001b[1;33m.\u001b[0m\u001b[0mProj\u001b[0m\u001b[1;33m(\u001b[0m\u001b[0mself\u001b[0m\u001b[1;33m.\u001b[0m\u001b[0mcrs\u001b[0m\u001b[1;33m,\u001b[0m \u001b[0mpreserve_units\u001b[0m\u001b[1;33m=\u001b[0m\u001b[1;32mTrue\u001b[0m\u001b[1;33m)\u001b[0m\u001b[1;33m\u001b[0m\u001b[1;33m\u001b[0m\u001b[0m\n\u001b[1;32m--> 424\u001b[1;33m             \u001b[0mproj_out\u001b[0m \u001b[1;33m=\u001b[0m \u001b[0mpyproj\u001b[0m\u001b[1;33m.\u001b[0m\u001b[0mProj\u001b[0m\u001b[1;33m(\u001b[0m\u001b[0mcrs\u001b[0m\u001b[1;33m,\u001b[0m \u001b[0mpreserve_units\u001b[0m\u001b[1;33m=\u001b[0m\u001b[1;32mTrue\u001b[0m\u001b[1;33m)\u001b[0m\u001b[1;33m\u001b[0m\u001b[1;33m\u001b[0m\u001b[0m\n\u001b[0m\u001b[0;32m    425\u001b[0m             \u001b[0mproject\u001b[0m \u001b[1;33m=\u001b[0m \u001b[0mpartial\u001b[0m\u001b[1;33m(\u001b[0m\u001b[0mpyproj\u001b[0m\u001b[1;33m.\u001b[0m\u001b[0mtransform\u001b[0m\u001b[1;33m,\u001b[0m \u001b[0mproj_in\u001b[0m\u001b[1;33m,\u001b[0m \u001b[0mproj_out\u001b[0m\u001b[1;33m)\u001b[0m\u001b[1;33m\u001b[0m\u001b[1;33m\u001b[0m\u001b[0m\n\u001b[0;32m    426\u001b[0m         \u001b[0mresult\u001b[0m \u001b[1;33m=\u001b[0m \u001b[0mself\u001b[0m\u001b[1;33m.\u001b[0m\u001b[0mapply\u001b[0m\u001b[1;33m(\u001b[0m\u001b[1;32mlambda\u001b[0m \u001b[0mgeom\u001b[0m\u001b[1;33m:\u001b[0m \u001b[0mtransform\u001b[0m\u001b[1;33m(\u001b[0m\u001b[0mproject\u001b[0m\u001b[1;33m,\u001b[0m \u001b[0mgeom\u001b[0m\u001b[1;33m)\u001b[0m\u001b[1;33m)\u001b[0m\u001b[1;33m\u001b[0m\u001b[1;33m\u001b[0m\u001b[0m\n",
      "\u001b[1;32m~\\Anaconda3\\lib\\site-packages\\pyproj\\__init__.py\u001b[0m in \u001b[0;36m__new__\u001b[1;34m(self, projparams, preserve_units, **kwargs)\u001b[0m\n\u001b[0;32m    360\u001b[0m         \u001b[1;31m# on case-insensitive filesystems).\u001b[0m\u001b[1;33m\u001b[0m\u001b[1;33m\u001b[0m\u001b[1;33m\u001b[0m\u001b[0m\n\u001b[0;32m    361\u001b[0m         \u001b[0mprojstring\u001b[0m \u001b[1;33m=\u001b[0m \u001b[0mprojstring\u001b[0m\u001b[1;33m.\u001b[0m\u001b[0mreplace\u001b[0m\u001b[1;33m(\u001b[0m\u001b[1;34m'EPSG'\u001b[0m\u001b[1;33m,\u001b[0m\u001b[1;34m'epsg'\u001b[0m\u001b[1;33m)\u001b[0m\u001b[1;33m\u001b[0m\u001b[1;33m\u001b[0m\u001b[0m\n\u001b[1;32m--> 362\u001b[1;33m         \u001b[1;32mreturn\u001b[0m \u001b[0m_proj\u001b[0m\u001b[1;33m.\u001b[0m\u001b[0mProj\u001b[0m\u001b[1;33m.\u001b[0m\u001b[0m__new__\u001b[0m\u001b[1;33m(\u001b[0m\u001b[0mself\u001b[0m\u001b[1;33m,\u001b[0m \u001b[0mprojstring\u001b[0m\u001b[1;33m)\u001b[0m\u001b[1;33m\u001b[0m\u001b[1;33m\u001b[0m\u001b[0m\n\u001b[0m\u001b[0;32m    363\u001b[0m \u001b[1;33m\u001b[0m\u001b[0m\n\u001b[0;32m    364\u001b[0m     \u001b[1;32mdef\u001b[0m \u001b[0m__call__\u001b[0m\u001b[1;33m(\u001b[0m\u001b[0mself\u001b[0m\u001b[1;33m,\u001b[0m \u001b[1;33m*\u001b[0m\u001b[0margs\u001b[0m\u001b[1;33m,\u001b[0m \u001b[1;33m**\u001b[0m\u001b[0mkw\u001b[0m\u001b[1;33m)\u001b[0m\u001b[1;33m:\u001b[0m\u001b[1;33m\u001b[0m\u001b[1;33m\u001b[0m\u001b[0m\n",
      "\u001b[1;32m_proj.pyx\u001b[0m in \u001b[0;36m_proj.Proj.__cinit__\u001b[1;34m()\u001b[0m\n",
      "\u001b[1;31mRuntimeError\u001b[0m: b'no arguments in initialization list'"
     ]
    }
   ],
   "source": [
    "df = load_overlay_file(fname, layer)"
   ]
  },
  {
   "cell_type": "code",
   "execution_count": 34,
   "metadata": {},
   "outputs": [],
   "source": [
    "df = gpd.read_file(fname,\n",
    "                     layer=layer,\n",
    "                     driver='FileGDB')\n"
   ]
  },
  {
   "cell_type": "code",
   "execution_count": 36,
   "metadata": {},
   "outputs": [
    {
     "ename": "AttributeError",
     "evalue": "'set' object has no attribute 'items'",
     "output_type": "error",
     "traceback": [
      "\u001b[1;31m---------------------------------------------------------------------------\u001b[0m",
      "\u001b[1;31mAttributeError\u001b[0m                            Traceback (most recent call last)",
      "\u001b[1;32m<ipython-input-36-a17577e474ee>\u001b[0m in \u001b[0;36m<module>\u001b[1;34m\u001b[0m\n\u001b[0;32m      1\u001b[0m \u001b[1;31m#df.crs = {'init' :'epsg:3857'}\u001b[0m\u001b[1;33m\u001b[0m\u001b[1;33m\u001b[0m\u001b[1;33m\u001b[0m\u001b[0m\n\u001b[1;32m----> 2\u001b[1;33m \u001b[0mdf\u001b[0m \u001b[1;33m=\u001b[0m \u001b[0mdf\u001b[0m\u001b[1;33m.\u001b[0m\u001b[0mto_crs\u001b[0m\u001b[1;33m(\u001b[0m\u001b[1;33m{\u001b[0m\u001b[1;34m'EPSG:32610'\u001b[0m\u001b[1;33m}\u001b[0m\u001b[1;33m)\u001b[0m\u001b[1;33m\u001b[0m\u001b[1;33m\u001b[0m\u001b[0m\n\u001b[0m",
      "\u001b[1;32m~\\Anaconda3\\lib\\site-packages\\geopandas\\geodataframe.py\u001b[0m in \u001b[0;36mto_crs\u001b[1;34m(self, crs, epsg, inplace)\u001b[0m\n\u001b[0;32m    532\u001b[0m         \u001b[1;32melse\u001b[0m\u001b[1;33m:\u001b[0m\u001b[1;33m\u001b[0m\u001b[1;33m\u001b[0m\u001b[0m\n\u001b[0;32m    533\u001b[0m             \u001b[0mdf\u001b[0m \u001b[1;33m=\u001b[0m \u001b[0mself\u001b[0m\u001b[1;33m.\u001b[0m\u001b[0mcopy\u001b[0m\u001b[1;33m(\u001b[0m\u001b[1;33m)\u001b[0m\u001b[1;33m\u001b[0m\u001b[1;33m\u001b[0m\u001b[0m\n\u001b[1;32m--> 534\u001b[1;33m         \u001b[0mgeom\u001b[0m \u001b[1;33m=\u001b[0m \u001b[0mdf\u001b[0m\u001b[1;33m.\u001b[0m\u001b[0mgeometry\u001b[0m\u001b[1;33m.\u001b[0m\u001b[0mto_crs\u001b[0m\u001b[1;33m(\u001b[0m\u001b[0mcrs\u001b[0m\u001b[1;33m=\u001b[0m\u001b[0mcrs\u001b[0m\u001b[1;33m,\u001b[0m \u001b[0mepsg\u001b[0m\u001b[1;33m=\u001b[0m\u001b[0mepsg\u001b[0m\u001b[1;33m)\u001b[0m\u001b[1;33m\u001b[0m\u001b[1;33m\u001b[0m\u001b[0m\n\u001b[0m\u001b[0;32m    535\u001b[0m         \u001b[0mdf\u001b[0m\u001b[1;33m.\u001b[0m\u001b[0mgeometry\u001b[0m \u001b[1;33m=\u001b[0m \u001b[0mgeom\u001b[0m\u001b[1;33m\u001b[0m\u001b[1;33m\u001b[0m\u001b[0m\n\u001b[0;32m    536\u001b[0m         \u001b[0mdf\u001b[0m\u001b[1;33m.\u001b[0m\u001b[0mcrs\u001b[0m \u001b[1;33m=\u001b[0m \u001b[0mgeom\u001b[0m\u001b[1;33m.\u001b[0m\u001b[0mcrs\u001b[0m\u001b[1;33m\u001b[0m\u001b[1;33m\u001b[0m\u001b[0m\n",
      "\u001b[1;32m~\\Anaconda3\\lib\\site-packages\\geopandas\\geoseries.py\u001b[0m in \u001b[0;36mto_crs\u001b[1;34m(self, crs, epsg)\u001b[0m\n\u001b[0;32m    422\u001b[0m         \u001b[1;32melse\u001b[0m\u001b[1;33m:\u001b[0m\u001b[1;33m\u001b[0m\u001b[1;33m\u001b[0m\u001b[0m\n\u001b[0;32m    423\u001b[0m             \u001b[0mproj_in\u001b[0m \u001b[1;33m=\u001b[0m \u001b[0mpyproj\u001b[0m\u001b[1;33m.\u001b[0m\u001b[0mProj\u001b[0m\u001b[1;33m(\u001b[0m\u001b[0mself\u001b[0m\u001b[1;33m.\u001b[0m\u001b[0mcrs\u001b[0m\u001b[1;33m,\u001b[0m \u001b[0mpreserve_units\u001b[0m\u001b[1;33m=\u001b[0m\u001b[1;32mTrue\u001b[0m\u001b[1;33m)\u001b[0m\u001b[1;33m\u001b[0m\u001b[1;33m\u001b[0m\u001b[0m\n\u001b[1;32m--> 424\u001b[1;33m             \u001b[0mproj_out\u001b[0m \u001b[1;33m=\u001b[0m \u001b[0mpyproj\u001b[0m\u001b[1;33m.\u001b[0m\u001b[0mProj\u001b[0m\u001b[1;33m(\u001b[0m\u001b[0mcrs\u001b[0m\u001b[1;33m,\u001b[0m \u001b[0mpreserve_units\u001b[0m\u001b[1;33m=\u001b[0m\u001b[1;32mTrue\u001b[0m\u001b[1;33m)\u001b[0m\u001b[1;33m\u001b[0m\u001b[1;33m\u001b[0m\u001b[0m\n\u001b[0m\u001b[0;32m    425\u001b[0m             \u001b[0mproject\u001b[0m \u001b[1;33m=\u001b[0m \u001b[0mpartial\u001b[0m\u001b[1;33m(\u001b[0m\u001b[0mpyproj\u001b[0m\u001b[1;33m.\u001b[0m\u001b[0mtransform\u001b[0m\u001b[1;33m,\u001b[0m \u001b[0mproj_in\u001b[0m\u001b[1;33m,\u001b[0m \u001b[0mproj_out\u001b[0m\u001b[1;33m)\u001b[0m\u001b[1;33m\u001b[0m\u001b[1;33m\u001b[0m\u001b[0m\n\u001b[0;32m    426\u001b[0m         \u001b[0mresult\u001b[0m \u001b[1;33m=\u001b[0m \u001b[0mself\u001b[0m\u001b[1;33m.\u001b[0m\u001b[0mapply\u001b[0m\u001b[1;33m(\u001b[0m\u001b[1;32mlambda\u001b[0m \u001b[0mgeom\u001b[0m\u001b[1;33m:\u001b[0m \u001b[0mtransform\u001b[0m\u001b[1;33m(\u001b[0m\u001b[0mproject\u001b[0m\u001b[1;33m,\u001b[0m \u001b[0mgeom\u001b[0m\u001b[1;33m)\u001b[0m\u001b[1;33m)\u001b[0m\u001b[1;33m\u001b[0m\u001b[1;33m\u001b[0m\u001b[0m\n",
      "\u001b[1;32m~\\Anaconda3\\lib\\site-packages\\pyproj\\__init__.py\u001b[0m in \u001b[0;36m__new__\u001b[1;34m(self, projparams, preserve_units, **kwargs)\u001b[0m\n",
      "\u001b[1;32m~\\Anaconda3\\lib\\site-packages\\pyproj\\__init__.py\u001b[0m in \u001b[0;36m_dict2string\u001b[1;34m(projparams)\u001b[0m\n",
      "\u001b[1;31mAttributeError\u001b[0m: 'set' object has no attribute 'items'"
     ]
    }
   ],
   "source": [
    "#df.crs = {'init' :'epsg:3857'}\n",
    "df = df.to_crs({'EPSG:32610'})"
   ]
  },
  {
   "cell_type": "code",
   "execution_count": null,
   "metadata": {},
   "outputs": [],
   "source": []
  },
  {
   "cell_type": "code",
   "execution_count": null,
   "metadata": {},
   "outputs": [],
   "source": [
    "df['polygon_ty'].unique()"
   ]
  },
  {
   "cell_type": "code",
   "execution_count": 7,
   "metadata": {},
   "outputs": [
    {
     "data": {
      "text/plain": [
       "array(['G', 'L', 'nv', 'P', 'S', 'sAC', 'U', 'V', 'D', 'Cl', 'R', 'X',\n",
       "       'W', 'LP', 'Z'], dtype=object)"
      ]
     },
     "execution_count": 7,
     "metadata": {},
     "output_type": "execute_result"
    }
   ],
   "source": [
    "df['polygon_ty'].unique()"
   ]
  },
  {
   "cell_type": "code",
   "execution_count": 11,
   "metadata": {},
   "outputs": [
    {
     "data": {
      "text/plain": [
       "('/Users\\\\ywang\\\\Box\\\\Plan Bay Area 2050 - EIR Analysis and Data\\\\pba2050_eirFeatureData1.gdb',\n",
       " 'fmmp_farmland_acres')"
      ]
     },
     "execution_count": 11,
     "metadata": {},
     "output_type": "execute_result"
    }
   ],
   "source": [
    "fname, colname"
   ]
  },
  {
   "cell_type": "code",
   "execution_count": null,
   "metadata": {},
   "outputs": [],
   "source": []
  },
  {
   "cell_type": "code",
   "execution_count": 6,
   "metadata": {},
   "outputs": [
    {
     "data": {
      "text/html": [
       "<div>\n",
       "<style scoped>\n",
       "    .dataframe tbody tr th:only-of-type {\n",
       "        vertical-align: middle;\n",
       "    }\n",
       "\n",
       "    .dataframe tbody tr th {\n",
       "        vertical-align: top;\n",
       "    }\n",
       "\n",
       "    .dataframe thead th {\n",
       "        text-align: right;\n",
       "    }\n",
       "</style>\n",
       "<table border=\"1\" class=\"dataframe\">\n",
       "  <thead>\n",
       "    <tr style=\"text-align: right;\">\n",
       "      <th></th>\n",
       "      <th>county_nam</th>\n",
       "      <th>county</th>\n",
       "      <th>polygon_ty</th>\n",
       "      <th>upd_year</th>\n",
       "      <th>polygon_ac</th>\n",
       "      <th>metalink</th>\n",
       "      <th>popupinfo</th>\n",
       "      <th>Shape_Length</th>\n",
       "      <th>Shape_Area</th>\n",
       "      <th>geometry</th>\n",
       "    </tr>\n",
       "  </thead>\n",
       "  <tbody>\n",
       "    <tr>\n",
       "      <th>0</th>\n",
       "      <td>fre</td>\n",
       "      <td>Fresno</td>\n",
       "      <td>G</td>\n",
       "      <td>2018</td>\n",
       "      <td>504164.833284</td>\n",
       "      <td>http://maps.conservation.ca.gov/dlrp/metadata/...</td>\n",
       "      <td>&lt;html xmlns:fo=\"http://www.w3.org/1999/XSL/For...</td>\n",
       "      <td>2.082572</td>\n",
       "      <td>1.256950e-04</td>\n",
       "      <td>MULTIPOLYGON (((741760.178 3976995.905, 741968...</td>\n",
       "    </tr>\n",
       "    <tr>\n",
       "      <th>1</th>\n",
       "      <td>fre</td>\n",
       "      <td>Fresno</td>\n",
       "      <td>L</td>\n",
       "      <td>2018</td>\n",
       "      <td>304.481573</td>\n",
       "      <td>http://maps.conservation.ca.gov/dlrp/metadata/...</td>\n",
       "      <td>&lt;html xmlns:fo=\"http://www.w3.org/1999/XSL/For...</td>\n",
       "      <td>0.006637</td>\n",
       "      <td>4.252086e-07</td>\n",
       "      <td>MULTIPOLYGON (((698034.272 4080959.722, 697880...</td>\n",
       "    </tr>\n",
       "    <tr>\n",
       "      <th>2</th>\n",
       "      <td>fre</td>\n",
       "      <td>Fresno</td>\n",
       "      <td>L</td>\n",
       "      <td>2018</td>\n",
       "      <td>174.217310</td>\n",
       "      <td>http://maps.conservation.ca.gov/dlrp/metadata/...</td>\n",
       "      <td>&lt;html xmlns:fo=\"http://www.w3.org/1999/XSL/For...</td>\n",
       "      <td>0.003049</td>\n",
       "      <td>2.786200e-08</td>\n",
       "      <td>MULTIPOLYGON (((698401.348 4081361.327, 698401...</td>\n",
       "    </tr>\n",
       "    <tr>\n",
       "      <th>3</th>\n",
       "      <td>fre</td>\n",
       "      <td>Fresno</td>\n",
       "      <td>nv</td>\n",
       "      <td>2018</td>\n",
       "      <td>753.388844</td>\n",
       "      <td>http://maps.conservation.ca.gov/dlrp/metadata/...</td>\n",
       "      <td>&lt;html xmlns:fo=\"http://www.w3.org/1999/XSL/For...</td>\n",
       "      <td>0.000540</td>\n",
       "      <td>9.140294e-10</td>\n",
       "      <td>MULTIPOLYGON (((718599.554 4102610.412, 718581...</td>\n",
       "    </tr>\n",
       "    <tr>\n",
       "      <th>4</th>\n",
       "      <td>fre</td>\n",
       "      <td>Fresno</td>\n",
       "      <td>P</td>\n",
       "      <td>2018</td>\n",
       "      <td>54826.894668</td>\n",
       "      <td>http://maps.conservation.ca.gov/dlrp/metadata/...</td>\n",
       "      <td>&lt;html xmlns:fo=\"http://www.w3.org/1999/XSL/For...</td>\n",
       "      <td>0.043430</td>\n",
       "      <td>1.743283e-06</td>\n",
       "      <td>MULTIPOLYGON (((698646.570 4081614.508, 698641...</td>\n",
       "    </tr>\n",
       "  </tbody>\n",
       "</table>\n",
       "</div>"
      ],
      "text/plain": [
       "  county_nam  county polygon_ty upd_year     polygon_ac  \\\n",
       "0        fre  Fresno          G     2018  504164.833284   \n",
       "1        fre  Fresno          L     2018     304.481573   \n",
       "2        fre  Fresno          L     2018     174.217310   \n",
       "3        fre  Fresno         nv     2018     753.388844   \n",
       "4        fre  Fresno          P     2018   54826.894668   \n",
       "\n",
       "                                            metalink  \\\n",
       "0  http://maps.conservation.ca.gov/dlrp/metadata/...   \n",
       "1  http://maps.conservation.ca.gov/dlrp/metadata/...   \n",
       "2  http://maps.conservation.ca.gov/dlrp/metadata/...   \n",
       "3  http://maps.conservation.ca.gov/dlrp/metadata/...   \n",
       "4  http://maps.conservation.ca.gov/dlrp/metadata/...   \n",
       "\n",
       "                                           popupinfo  Shape_Length  \\\n",
       "0  <html xmlns:fo=\"http://www.w3.org/1999/XSL/For...      2.082572   \n",
       "1  <html xmlns:fo=\"http://www.w3.org/1999/XSL/For...      0.006637   \n",
       "2  <html xmlns:fo=\"http://www.w3.org/1999/XSL/For...      0.003049   \n",
       "3  <html xmlns:fo=\"http://www.w3.org/1999/XSL/For...      0.000540   \n",
       "4  <html xmlns:fo=\"http://www.w3.org/1999/XSL/For...      0.043430   \n",
       "\n",
       "     Shape_Area                                           geometry  \n",
       "0  1.256950e-04  MULTIPOLYGON (((741760.178 3976995.905, 741968...  \n",
       "1  4.252086e-07  MULTIPOLYGON (((698034.272 4080959.722, 697880...  \n",
       "2  2.786200e-08  MULTIPOLYGON (((698401.348 4081361.327, 698401...  \n",
       "3  9.140294e-10  MULTIPOLYGON (((718599.554 4102610.412, 718581...  \n",
       "4  1.743283e-06  MULTIPOLYGON (((698646.570 4081614.508, 698641...  "
      ]
     },
     "execution_count": 6,
     "metadata": {},
     "output_type": "execute_result"
    }
   ],
   "source": [
    "df.head()"
   ]
  },
  {
   "cell_type": "code",
   "execution_count": null,
   "metadata": {},
   "outputs": [],
   "source": []
  },
  {
   "cell_type": "code",
   "execution_count": null,
   "metadata": {},
   "outputs": [],
   "source": []
  },
  {
   "cell_type": "code",
   "execution_count": null,
   "metadata": {},
   "outputs": [],
   "source": []
  },
  {
   "cell_type": "code",
   "execution_count": null,
   "metadata": {},
   "outputs": [],
   "source": []
  },
  {
   "cell_type": "code",
   "execution_count": 4,
   "metadata": {},
   "outputs": [
    {
     "data": {
      "text/html": [
       "<div>\n",
       "<style scoped>\n",
       "    .dataframe tbody tr th:only-of-type {\n",
       "        vertical-align: middle;\n",
       "    }\n",
       "\n",
       "    .dataframe tbody tr th {\n",
       "        vertical-align: top;\n",
       "    }\n",
       "\n",
       "    .dataframe thead th {\n",
       "        text-align: right;\n",
       "    }\n",
       "</style>\n",
       "<table border=\"1\" class=\"dataframe\">\n",
       "  <thead>\n",
       "    <tr style=\"text-align: right;\">\n",
       "      <th></th>\n",
       "      <th>Database Schema</th>\n",
       "      <th>layer</th>\n",
       "      <th>layer_name</th>\n",
       "      <th>Source\\n(Updated to source of PBA 2050 data set)</th>\n",
       "      <th>PBA 2040 Version</th>\n",
       "      <th>Available Version</th>\n",
       "      <th>Have Latest Version in FGDB\\n(Yes, No, N/A)</th>\n",
       "      <th>Metadata Status [Needs, Partial, or Complete]</th>\n",
       "      <th>Chapter</th>\n",
       "      <th>Lead</th>\n",
       "      <th>PBA 2040 Map Figure</th>\n",
       "      <th>PBA50 Map Figure</th>\n",
       "      <th>Class</th>\n",
       "      <th>PBA50 Analysis Criteria</th>\n",
       "      <th>PBA50 Output Fieldname</th>\n",
       "      <th>FGDB Location</th>\n",
       "      <th>In Enterprise Database</th>\n",
       "      <th>On Socrata</th>\n",
       "    </tr>\n",
       "  </thead>\n",
       "  <tbody>\n",
       "    <tr>\n",
       "      <th>0</th>\n",
       "      <td>Basemap</td>\n",
       "      <td>Airports</td>\n",
       "      <td>cdot_mtc_airport_boundaries_2015</td>\n",
       "      <td>California Department of Transportation (Caltr...</td>\n",
       "      <td>2011</td>\n",
       "      <td>2015</td>\n",
       "      <td>Yes</td>\n",
       "      <td>Needs</td>\n",
       "      <td>3.9 HAZ</td>\n",
       "      <td>Consultant</td>\n",
       "      <td>2.13-3</td>\n",
       "      <td>3.9-3</td>\n",
       "      <td>Public Airport;\\nPublic Use Airport</td>\n",
       "      <td>Within 2-mile proximity</td>\n",
       "      <td>num_airports</td>\n",
       "      <td>2.0</td>\n",
       "      <td>Y</td>\n",
       "      <td>Y</td>\n",
       "    </tr>\n",
       "    <tr>\n",
       "      <th>1</th>\n",
       "      <td>Basemap</td>\n",
       "      <td>California Air Districts - region</td>\n",
       "      <td>carb_airDistricts_2004</td>\n",
       "      <td>California Air Resources Board</td>\n",
       "      <td>2004</td>\n",
       "      <td>2004</td>\n",
       "      <td>Yes</td>\n",
       "      <td>Needs</td>\n",
       "      <td>3.4 AQ</td>\n",
       "      <td>Harold</td>\n",
       "      <td>2.2-1</td>\n",
       "      <td>3.4-1</td>\n",
       "      <td>NaN</td>\n",
       "      <td>NaN</td>\n",
       "      <td>NaN</td>\n",
       "      <td>NaN</td>\n",
       "      <td>Y</td>\n",
       "      <td>Y</td>\n",
       "    </tr>\n",
       "    <tr>\n",
       "      <th>2</th>\n",
       "      <td>Basemap</td>\n",
       "      <td>City Boundary Poly</td>\n",
       "      <td>tomtom_cityBoundary_2019</td>\n",
       "      <td>TomTom North America</td>\n",
       "      <td>2016</td>\n",
       "      <td>2019</td>\n",
       "      <td>Yes</td>\n",
       "      <td>Partial</td>\n",
       "      <td>NaN</td>\n",
       "      <td>NaN</td>\n",
       "      <td>all</td>\n",
       "      <td>all</td>\n",
       "      <td>NaN</td>\n",
       "      <td>NaN</td>\n",
       "      <td>NaN</td>\n",
       "      <td>NaN</td>\n",
       "      <td>Y</td>\n",
       "      <td>Y</td>\n",
       "    </tr>\n",
       "    <tr>\n",
       "      <th>3</th>\n",
       "      <td>Basemap</td>\n",
       "      <td>Counties Shoreline Clipped</td>\n",
       "      <td>counties_shorelineClipped_2019</td>\n",
       "      <td>TomTom North America; Metropolitan Transportat...</td>\n",
       "      <td>2016</td>\n",
       "      <td>2019</td>\n",
       "      <td>Yes</td>\n",
       "      <td>Needs</td>\n",
       "      <td>NaN</td>\n",
       "      <td>NaN</td>\n",
       "      <td>NaN</td>\n",
       "      <td>NaN</td>\n",
       "      <td>NaN</td>\n",
       "      <td>NaN</td>\n",
       "      <td>NaN</td>\n",
       "      <td>NaN</td>\n",
       "      <td>Y</td>\n",
       "      <td>Y</td>\n",
       "    </tr>\n",
       "    <tr>\n",
       "      <th>4</th>\n",
       "      <td>Basemap</td>\n",
       "      <td>County Boundary Lines</td>\n",
       "      <td>tomtom_countyBoundaryLine_2019</td>\n",
       "      <td>TomTom North America</td>\n",
       "      <td>2016</td>\n",
       "      <td>2019 (TomTom)</td>\n",
       "      <td>Yes</td>\n",
       "      <td>Partial</td>\n",
       "      <td>NaN</td>\n",
       "      <td>NaN</td>\n",
       "      <td>all</td>\n",
       "      <td>all</td>\n",
       "      <td>NaN</td>\n",
       "      <td>NaN</td>\n",
       "      <td>NaN</td>\n",
       "      <td>NaN</td>\n",
       "      <td>Y</td>\n",
       "      <td>Y</td>\n",
       "    </tr>\n",
       "  </tbody>\n",
       "</table>\n",
       "</div>"
      ],
      "text/plain": [
       "  Database Schema                              layer  \\\n",
       "0         Basemap                           Airports   \n",
       "1         Basemap  California Air Districts - region   \n",
       "2         Basemap                 City Boundary Poly   \n",
       "3         Basemap         Counties Shoreline Clipped   \n",
       "4         Basemap              County Boundary Lines   \n",
       "\n",
       "                         layer_name  \\\n",
       "0  cdot_mtc_airport_boundaries_2015   \n",
       "1            carb_airDistricts_2004   \n",
       "2          tomtom_cityBoundary_2019   \n",
       "3    counties_shorelineClipped_2019   \n",
       "4    tomtom_countyBoundaryLine_2019   \n",
       "\n",
       "    Source\\n(Updated to source of PBA 2050 data set) PBA 2040 Version  \\\n",
       "0  California Department of Transportation (Caltr...             2011   \n",
       "1                     California Air Resources Board             2004   \n",
       "2                               TomTom North America             2016   \n",
       "3  TomTom North America; Metropolitan Transportat...             2016   \n",
       "4                               TomTom North America             2016   \n",
       "\n",
       "  Available Version Have Latest Version in FGDB\\n(Yes, No, N/A)  \\\n",
       "0              2015                                         Yes   \n",
       "1              2004                                         Yes   \n",
       "2              2019                                         Yes   \n",
       "3              2019                                         Yes   \n",
       "4     2019 (TomTom)                                         Yes   \n",
       "\n",
       "  Metadata Status [Needs, Partial, or Complete]  Chapter        Lead  \\\n",
       "0                                         Needs  3.9 HAZ  Consultant   \n",
       "1                                         Needs   3.4 AQ      Harold   \n",
       "2                                       Partial      NaN         NaN   \n",
       "3                                         Needs      NaN         NaN   \n",
       "4                                       Partial      NaN         NaN   \n",
       "\n",
       "  PBA 2040 Map Figure PBA50 Map Figure                                 Class  \\\n",
       "0              2.13-3            3.9-3  Public Airport;\\nPublic Use Airport    \n",
       "1               2.2-1            3.4-1                                   NaN   \n",
       "2                 all              all                                   NaN   \n",
       "3                 NaN              NaN                                   NaN   \n",
       "4                 all              all                                   NaN   \n",
       "\n",
       "   PBA50 Analysis Criteria PBA50 Output Fieldname  FGDB Location  \\\n",
       "0  Within 2-mile proximity           num_airports            2.0   \n",
       "1                      NaN                    NaN            NaN   \n",
       "2                      NaN                    NaN            NaN   \n",
       "3                      NaN                    NaN            NaN   \n",
       "4                      NaN                    NaN            NaN   \n",
       "\n",
       "  In Enterprise Database On Socrata  \n",
       "0                      Y          Y  \n",
       "1                      Y          Y  \n",
       "2                      Y          Y  \n",
       "3                      Y          Y  \n",
       "4                      Y          Y  "
      ]
     },
     "execution_count": 4,
     "metadata": {},
     "output_type": "execute_result"
    }
   ],
   "source": [
    "data_inventory.head()"
   ]
  },
  {
   "cell_type": "code",
   "execution_count": null,
   "metadata": {},
   "outputs": [],
   "source": []
  },
  {
   "cell_type": "code",
   "execution_count": null,
   "metadata": {},
   "outputs": [],
   "source": []
  },
  {
   "cell_type": "code",
   "execution_count": null,
   "metadata": {},
   "outputs": [],
   "source": []
  },
  {
   "cell_type": "code",
   "execution_count": null,
   "metadata": {},
   "outputs": [],
   "source": []
  },
  {
   "cell_type": "code",
   "execution_count": null,
   "metadata": {},
   "outputs": [],
   "source": []
  },
  {
   "cell_type": "code",
   "execution_count": null,
   "metadata": {},
   "outputs": [],
   "source": [
    "data_inventory = load_data_inventory()\n",
    "acreage_layers = get_acreage_layers(data_inventory)\n",
    "acreage_layers"
   ]
  },
  {
   "cell_type": "code",
   "execution_count": null,
   "metadata": {},
   "outputs": [],
   "source": [
    "habitat_layers = get_habitat_layers(data_inventory)\n",
    "is_ready = '~`GDB Location`.isnull()'\n",
    "not_habitat = '~layer_name.isin(@habitat_layers)'\n",
    "is_acreage = \"`PBA50 Analysis Criteria` == 'Acres of Overlap'\"\n",
    "\n",
    "q_list = [is_ready,\n",
    "          not_habitat,\n",
    "          is_acreage]\n",
    "\n",
    "q = ' & '.join(['({})'.format(query) for query in q_list])\n",
    "\n",
    "acreage_layers = (data_inventory[data_inventory.eval(q, engine='python')]\n",
    "                  ['layer_name'].unique())"
   ]
  },
  {
   "cell_type": "code",
   "execution_count": null,
   "metadata": {},
   "outputs": [],
   "source": [
    "data_inventory[data_inventory.eval(q, engine='python')]"
   ]
  },
  {
   "cell_type": "code",
   "execution_count": null,
   "metadata": {},
   "outputs": [],
   "source": []
  },
  {
   "cell_type": "markdown",
   "metadata": {},
   "source": [
    "### List inventory layers\n",
    "\n",
    "The column **GDB Location** was created through manual matching of layer names to the file contents below. Some layer names were updated in the *FeatureClass* column"
   ]
  },
  {
   "cell_type": "code",
   "execution_count": null,
   "metadata": {
    "scrolled": true
   },
   "outputs": [],
   "source": [
    "gdbname1 = os.path.join(dirname, 'pba2050_eirFeatureData1.gdb')\n",
    "layers = fiona.listlayers(gdbname1)\n",
    "layers"
   ]
  },
  {
   "cell_type": "code",
   "execution_count": null,
   "metadata": {},
   "outputs": [],
   "source": [
    "write_lines(layers, 'pba2050_eirFeatureData1_layers.txt')"
   ]
  },
  {
   "cell_type": "code",
   "execution_count": null,
   "metadata": {},
   "outputs": [],
   "source": []
  },
  {
   "cell_type": "code",
   "execution_count": null,
   "metadata": {},
   "outputs": [],
   "source": []
  },
  {
   "cell_type": "code",
   "execution_count": null,
   "metadata": {
    "scrolled": true
   },
   "outputs": [],
   "source": [
    "gdbname2 = os.path.join(dirname, 'pba2050_eirFeatureData2.gdb')\n",
    "layers = fiona.listlayers(gdbname2)\n",
    "layers"
   ]
  },
  {
   "cell_type": "code",
   "execution_count": null,
   "metadata": {},
   "outputs": [],
   "source": [
    "write_lines(layers, 'pba2050_eirFeatureData2_layers.txt')"
   ]
  },
  {
   "cell_type": "code",
   "execution_count": null,
   "metadata": {},
   "outputs": [],
   "source": []
  },
  {
   "cell_type": "code",
   "execution_count": null,
   "metadata": {},
   "outputs": [],
   "source": []
  },
  {
   "cell_type": "code",
   "execution_count": null,
   "metadata": {},
   "outputs": [],
   "source": []
  },
  {
   "cell_type": "code",
   "execution_count": null,
   "metadata": {},
   "outputs": [],
   "source": []
  },
  {
   "cell_type": "code",
   "execution_count": null,
   "metadata": {},
   "outputs": [],
   "source": []
  },
  {
   "cell_type": "code",
   "execution_count": null,
   "metadata": {},
   "outputs": [],
   "source": []
  },
  {
   "cell_type": "markdown",
   "metadata": {},
   "source": [
    "### Data inventory\n",
    "\n",
    "https://mtcdrive.app.box.com/file/701734740559?s=43jc8eapmgh4jynd0hcwmkyu9cewfkpk"
   ]
  },
  {
   "cell_type": "code",
   "execution_count": null,
   "metadata": {},
   "outputs": [],
   "source": [
    "data_inventory = pd.read_excel(os.path.join(dirname,\n",
    "                                            'PBA 2050 DEIR Data Inventory.xlsx')\n",
    "                              )\n",
    "data_inventory = data_inventory.rename(columns={'Layer Name': 'layer'})\n",
    "data_inventory.columns.values[2] = 'layer_name'\n",
    "data_inventory.head()"
   ]
  },
  {
   "cell_type": "code",
   "execution_count": null,
   "metadata": {},
   "outputs": [],
   "source": []
  },
  {
   "cell_type": "code",
   "execution_count": null,
   "metadata": {},
   "outputs": [],
   "source": [
    "def get_habitat_layers(data_inventory):\n",
    "    q = \"layer.str.startswith('Critical Habitat', na=False)\"\n",
    "    habitat_layers = (data_inventory[data_inventory.eval(q, engine='python')]\n",
    "                      ['layer_name'].unique())\n",
    "    write_lines(habitat_layers, 'EIR_habitat_layers.txt')\n",
    "    return habitat_layers\n",
    "\n",
    "\n",
    "def get_acreage_layers(data_inventory):\n",
    "    \"\"\"\n",
    "    Returns a list of layer names for which we will do an\n",
    "    overlay acreage analysis\n",
    "    \"\"\"\n",
    "    is_ready = '~`GDB Location`.isnull()'\n",
    "    not_habitat = '~layer.isin(@habitat_layers)'\n",
    "    is_acreage = \"`PBA50 Analysis Criteria` == 'Acres of Overlap'\"\n",
    "\n",
    "    q_list = [is_ready,\n",
    "              not_habitat,\n",
    "              is_acreage]\n",
    "\n",
    "    q = ' & '.join(['({})'.format(query) for query in q_list])\n",
    "\n",
    "    acreage_layers = (data_inventory[data_inventory.eval(q, engine='python')]\n",
    "                      ['layer_name'].unique())\n",
    "    return acreage_layers"
   ]
  },
  {
   "cell_type": "code",
   "execution_count": null,
   "metadata": {},
   "outputs": [],
   "source": []
  },
  {
   "cell_type": "code",
   "execution_count": null,
   "metadata": {},
   "outputs": [],
   "source": []
  },
  {
   "cell_type": "code",
   "execution_count": null,
   "metadata": {},
   "outputs": [],
   "source": [
    "layer = acreage_layers[-1]\n",
    "layer"
   ]
  },
  {
   "cell_type": "code",
   "execution_count": null,
   "metadata": {},
   "outputs": [],
   "source": [
    "def combine_williamson_dfs(fname, layer):\n",
    "    if 'williamson' not in layer:\n",
    "        return\n",
    "    williamson_layers = layer.split()\n",
    "    df_list = []\n",
    "    for l in williamson_layers:\n",
    "        df_list.append(load_overlay_file(fname, l))\n",
    "    williamson_df = pd.concat(df_list,\n",
    "                              ignore_index=True,\n",
    "                              sort=False)\n",
    "#     print(len(williamson_df))  # 12043\n",
    "    return williamson_df"
   ]
  },
  {
   "cell_type": "code",
   "execution_count": null,
   "metadata": {},
   "outputs": [],
   "source": []
  },
  {
   "cell_type": "code",
   "execution_count": null,
   "metadata": {},
   "outputs": [],
   "source": []
  },
  {
   "cell_type": "code",
   "execution_count": null,
   "metadata": {},
   "outputs": [],
   "source": [
    "if 'williamson' in layer:\n",
    "    williamson_layers = layer.split()\n",
    "williamson_layers"
   ]
  },
  {
   "cell_type": "code",
   "execution_count": null,
   "metadata": {},
   "outputs": [],
   "source": [
    "fname, output_colname = load_inventory_row(layer)\n",
    "fname, output_colname"
   ]
  },
  {
   "cell_type": "code",
   "execution_count": null,
   "metadata": {},
   "outputs": [],
   "source": [
    "l = williamson_layers[0]"
   ]
  },
  {
   "cell_type": "code",
   "execution_count": null,
   "metadata": {},
   "outputs": [],
   "source": [
    "df_list = []\n",
    "for l in williamson_layers:\n",
    "    df_list.append(load_file(fname, l))\n",
    "williamson_df = pd.concat(df_list,\n",
    "                          ignore_index=True,\n",
    "                          sort=False)\n",
    "len(williamson_df)  # 12043"
   ]
  },
  {
   "cell_type": "code",
   "execution_count": null,
   "metadata": {},
   "outputs": [],
   "source": []
  },
  {
   "cell_type": "code",
   "execution_count": null,
   "metadata": {},
   "outputs": [],
   "source": []
  },
  {
   "cell_type": "code",
   "execution_count": null,
   "metadata": {},
   "outputs": [],
   "source": []
  },
  {
   "cell_type": "code",
   "execution_count": null,
   "metadata": {},
   "outputs": [],
   "source": []
  },
  {
   "cell_type": "code",
   "execution_count": null,
   "metadata": {},
   "outputs": [],
   "source": []
  },
  {
   "cell_type": "code",
   "execution_count": null,
   "metadata": {},
   "outputs": [],
   "source": []
  },
  {
   "cell_type": "code",
   "execution_count": null,
   "metadata": {},
   "outputs": [],
   "source": []
  },
  {
   "cell_type": "code",
   "execution_count": null,
   "metadata": {},
   "outputs": [],
   "source": []
  },
  {
   "cell_type": "code",
   "execution_count": null,
   "metadata": {},
   "outputs": [],
   "source": []
  },
  {
   "cell_type": "code",
   "execution_count": null,
   "metadata": {},
   "outputs": [],
   "source": []
  },
  {
   "cell_type": "code",
   "execution_count": null,
   "metadata": {},
   "outputs": [],
   "source": []
  },
  {
   "cell_type": "code",
   "execution_count": null,
   "metadata": {},
   "outputs": [],
   "source": []
  },
  {
   "cell_type": "code",
   "execution_count": null,
   "metadata": {},
   "outputs": [],
   "source": [
    "layer = 'cdfw_essentialConnectivityAreas_2010'"
   ]
  },
  {
   "cell_type": "code",
   "execution_count": null,
   "metadata": {},
   "outputs": [],
   "source": [
    "q = 'layer_name == @layer'\n",
    "row = data_inventory[data_inventory.eval(q, engine='python')]\n",
    "fname = row['GDB Location'].iloc[0]\n",
    "fname"
   ]
  },
  {
   "cell_type": "code",
   "execution_count": null,
   "metadata": {},
   "outputs": [],
   "source": [
    "row"
   ]
  },
  {
   "cell_type": "code",
   "execution_count": null,
   "metadata": {},
   "outputs": [],
   "source": [
    "colname = row['PBA50 Output Fieldname'].iloc[0]\n",
    "colname"
   ]
  },
  {
   "cell_type": "code",
   "execution_count": null,
   "metadata": {},
   "outputs": [],
   "source": []
  },
  {
   "cell_type": "code",
   "execution_count": null,
   "metadata": {},
   "outputs": [],
   "source": []
  },
  {
   "cell_type": "code",
   "execution_count": null,
   "metadata": {},
   "outputs": [],
   "source": []
  },
  {
   "cell_type": "code",
   "execution_count": null,
   "metadata": {},
   "outputs": [],
   "source": []
  },
  {
   "cell_type": "code",
   "execution_count": null,
   "metadata": {},
   "outputs": [],
   "source": []
  },
  {
   "cell_type": "code",
   "execution_count": null,
   "metadata": {},
   "outputs": [],
   "source": [
    "def cdfw_essential_conn_acres(final_d):\n",
    "    \"\"\"\n",
    "    Essential Connectivity Area: Acres of Overlap\n",
    "    \"\"\"\n",
    "    # fname = gdbname1\n",
    "    layer = 'cdfw_essentialConnectivityAreas_2010'\n",
    "    colname = 'cdfw_essential_conn_acres'\n",
    "\n",
    "    final = get_acre_sum(fname, layer, colname)\n",
    "    final_d[colname] = dict(zip(final['countyname'], final[colname]))"
   ]
  },
  {
   "cell_type": "code",
   "execution_count": null,
   "metadata": {},
   "outputs": [],
   "source": [
    "def load_inventory_row(layer):\n",
    "    q = 'layer_name == @layer'\n",
    "    row = data_inventory[data_inventory.eval(q, engine='python')]\n",
    "    # FileGDB location\n",
    "    try:\n",
    "        gdb_loc = int(row['GDB Location'].iloc[0])\n",
    "    except:\n",
    "        print('Update the data inventory to specify the FileGDB location')\n",
    "        return\n",
    "    fname = os.path.join(dirname, 'pba2050_eirFeatureData{}.gdb'.format(gdb_loc))\n",
    "    # output field name\n",
    "    output_colname = row['PBA50 Output Fieldname'].iloc[0]\n",
    "    return fname, output_colname"
   ]
  },
  {
   "cell_type": "code",
   "execution_count": null,
   "metadata": {},
   "outputs": [],
   "source": []
  },
  {
   "cell_type": "code",
   "execution_count": null,
   "metadata": {},
   "outputs": [],
   "source": []
  },
  {
   "cell_type": "code",
   "execution_count": null,
   "metadata": {},
   "outputs": [],
   "source": []
  },
  {
   "cell_type": "markdown",
   "metadata": {},
   "source": [
    "### Load project footprint"
   ]
  },
  {
   "cell_type": "code",
   "execution_count": null,
   "metadata": {},
   "outputs": [],
   "source": [
    "fname = os.path.join(dirname,\n",
    "                     'Data Collection',\n",
    "                     'Project Footprint',\n",
    "                     'SLR Footprint',\n",
    "                     'SLR-Footprint_analysis.geojson')\n",
    "slr = gpd.read_file(fname, driver='GeoJSON')\n",
    "print(slr.crs)  # epsg:32610\n",
    "slr.head()"
   ]
  },
  {
   "cell_type": "code",
   "execution_count": null,
   "metadata": {},
   "outputs": [],
   "source": [
    "slr.plot()"
   ]
  },
  {
   "cell_type": "code",
   "execution_count": null,
   "metadata": {},
   "outputs": [],
   "source": []
  },
  {
   "cell_type": "code",
   "execution_count": null,
   "metadata": {},
   "outputs": [],
   "source": []
  },
  {
   "cell_type": "code",
   "execution_count": null,
   "metadata": {},
   "outputs": [],
   "source": [
    "# split project footprint by county\n",
    "counties, water = get_counties_water()\n",
    "slr = gpd.overlay(slr.drop('Acres', axis=1),\n",
    "                  counties,\n",
    "                  how='intersection')\n",
    "\n",
    "slr['land_acres'] = slr['geometry'].area * acres_per_m"
   ]
  },
  {
   "cell_type": "markdown",
   "metadata": {},
   "source": [
    "### Define functions + initialize results"
   ]
  },
  {
   "cell_type": "code",
   "execution_count": null,
   "metadata": {},
   "outputs": [],
   "source": [
    "final_d = {}"
   ]
  },
  {
   "cell_type": "code",
   "execution_count": null,
   "metadata": {},
   "outputs": [],
   "source": [
    "# get county base df for mapping dicts\n",
    "county_df = slr[['countyname']].drop_duplicates()"
   ]
  },
  {
   "cell_type": "code",
   "execution_count": null,
   "metadata": {},
   "outputs": [],
   "source": [
    "def load_file(fname, layer):\n",
    "    \"\"\"\n",
    "    Given a desired overlay filename and layer, returns the\n",
    "    overlay as a GeoDataFrame projected to EPSG:32610\n",
    "    \"\"\"\n",
    "    df = gpd.read_file(fname,\n",
    "                         layer=layer,\n",
    "                         driver='FileGDB')\n",
    "    df = df.to_crs('EPSG:32610')\n",
    "    return df"
   ]
  },
  {
   "cell_type": "code",
   "execution_count": null,
   "metadata": {},
   "outputs": [],
   "source": [
    "def get_acre_sum(fname, layer, colname):\n",
    "    \"\"\"\n",
    "    Given a desired overlay filename, layer, and output column name,\n",
    "    returns a dataframe of the county and total acreage\n",
    "    \"\"\"\n",
    "    df = load_file(fname, layer)\n",
    "\n",
    "    joined = gpd.overlay(slr,\n",
    "                         df,\n",
    "                         how='intersection')\n",
    "\n",
    "    joined['acres'] = joined['geometry'].area * acres_per_m\n",
    "\n",
    "    groupby_cols = ['countyname']\n",
    "    agg_d = {'acres': 'sum'}\n",
    "    rename_d = {'acres': colname}\n",
    "\n",
    "    final = (joined\n",
    "             .groupby(groupby_cols, as_index=False)\n",
    "             .agg(agg_d)\n",
    "             .rename(columns=rename_d)\n",
    "            )\n",
    "    return final"
   ]
  },
  {
   "cell_type": "markdown",
   "metadata": {},
   "source": [
    "## 1. Airports\n",
    "\n",
    "Within 2-mile proximity"
   ]
  },
  {
   "cell_type": "code",
   "execution_count": null,
   "metadata": {},
   "outputs": [],
   "source": [
    "fname = gdbname2\n",
    "layer = 'cdot_mtc_airport_boundaries_2015'\n",
    "colname = 'num_airports'"
   ]
  },
  {
   "cell_type": "code",
   "execution_count": null,
   "metadata": {},
   "outputs": [],
   "source": [
    "df = load_file(fname, layer)\n",
    "\n",
    "m_in_2mi = 3218.69\n",
    "\n",
    "slr_buff = slr.copy()\n",
    "slr_buff['geom_buff'] = slr_buff['geometry'].buffer(m_in_2mi)\n",
    "slr_buff = gpd.sjoin(slr_buff.set_geometry('geom_buff'),\n",
    "                     df,\n",
    "                     how='left')\n",
    "\n",
    "groupby_cols = ['countyname']\n",
    "agg_d = {'index_right': 'nunique'}\n",
    "rename_d = {'index_right': colname}\n",
    "\n",
    "final = (slr_buff\n",
    "         .groupby(groupby_cols, as_index=False)\n",
    "         .agg(agg_d)\n",
    "         .rename(columns=rename_d)\n",
    "        )\n",
    "\n",
    "final_d[colname] = dict(zip(final['countyname'], final[colname]))"
   ]
  },
  {
   "cell_type": "markdown",
   "metadata": {},
   "source": [
    "## 2. CASGEM Groundwater Basin Prioritization\n",
    "\n",
    "Acres of Overlap"
   ]
  },
  {
   "cell_type": "code",
   "execution_count": null,
   "metadata": {},
   "outputs": [],
   "source": [
    "fname = gdbname1\n",
    "layer = 'dwr_groundwaterBasinPrioritization_2019'\n",
    "colname = 'casgem_gwater_acres'"
   ]
  },
  {
   "cell_type": "code",
   "execution_count": null,
   "metadata": {},
   "outputs": [],
   "source": [
    "final = get_acre_sum(fname, layer, colname)\n",
    "final_d[colname] = dict(zip(final['countyname'], final[colname]))"
   ]
  },
  {
   "cell_type": "markdown",
   "metadata": {},
   "source": [
    "## 3. Critical Habitat\n",
    "\n",
    "Number of species intersected"
   ]
  },
  {
   "cell_type": "code",
   "execution_count": null,
   "metadata": {},
   "outputs": [],
   "source": [
    "colname = 'num_species'\n",
    "\n",
    "habitat_d = {}\n",
    "fname = gdbname1"
   ]
  },
  {
   "cell_type": "code",
   "execution_count": null,
   "metadata": {
    "scrolled": true
   },
   "outputs": [],
   "source": [
    "q = \"layer.str.startswith('Critical Habitat', na=False)\"\n",
    "habitat_layers = (data_inventory[data_inventory.eval(q, engine='python')]\n",
    "                  ['layer_name'].unique())\n",
    "\n",
    "for idx, layer in enumerate(habitat_layers):\n",
    "    cname = 'habitat_{}'.format(idx)\n",
    "    try:\n",
    "        final = get_acre_sum(fname, layer, cname)\n",
    "        habitat_d[layer] = dict(zip(final['countyname'], final[cname]))\n",
    "    except:\n",
    "        habitat_d[layer] = {}\n",
    "\n",
    "# map habitat areas to county df\n",
    "final_df = county_df.copy()\n",
    "for idx, k in enumerate(habitat_d):\n",
    "    final_df['habitat_{}'.format(idx)] = final_df['countyname'].map(habitat_d[k])\n",
    "\n",
    "# count number of species intersected per county\n",
    "habitat_cols = [c for c in final_df if c.startswith('habitat')]\n",
    "for c in habitat_cols:\n",
    "    final_df[c] = (~final_df[c].isnull()) * 1\n",
    "\n",
    "final_df[colname] = final_df[habitat_cols].sum(axis=1)\n",
    "\n",
    "final = final_df.drop(habitat_cols, axis=1)\n",
    "\n",
    "# add to final dict\n",
    "final_d[colname] = dict(zip(final['countyname'], final[colname]))"
   ]
  },
  {
   "cell_type": "code",
   "execution_count": null,
   "metadata": {},
   "outputs": [],
   "source": []
  },
  {
   "cell_type": "markdown",
   "metadata": {},
   "source": [
    "## Assemble final dataframe from dictionaries"
   ]
  },
  {
   "cell_type": "code",
   "execution_count": null,
   "metadata": {},
   "outputs": [],
   "source": [
    "final_df = county_df.copy()\n",
    "for k in final_d:\n",
    "    final_df[k] = final_df['countyname'].map(final_d[k])\n",
    "final_df"
   ]
  },
  {
   "cell_type": "code",
   "execution_count": null,
   "metadata": {},
   "outputs": [],
   "source": [
    "final_df.to_csv('SLR_overlay_analysis.csv', index=False)"
   ]
  },
  {
   "cell_type": "markdown",
   "metadata": {},
   "source": []
  }
 ],
 "metadata": {
  "kernelspec": {
   "display_name": "Python 3",
   "language": "python",
   "name": "python3"
  },
  "language_info": {
   "codemirror_mode": {
    "name": "ipython",
    "version": 3
   },
   "file_extension": ".py",
   "mimetype": "text/x-python",
   "name": "python",
   "nbconvert_exporter": "python",
   "pygments_lexer": "ipython3",
   "version": "3.7.6"
  }
 },
 "nbformat": 4,
 "nbformat_minor": 4
}
