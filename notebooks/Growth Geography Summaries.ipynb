{
 "cells": [
  {
   "cell_type": "code",
   "execution_count": 1,
   "metadata": {},
   "outputs": [],
   "source": [
    "import sys\n",
    "import getpass\n",
    "import os\n",
    "\n",
    "user = getpass.getuser()\n",
    "sys.dont_write_bytecode = True\n",
    "\n",
    "sys.path.insert(0, '/Users/{}/Box/DataViz Projects/Utility Code'.format(user))\n",
    "\n",
    "from utils_io import *\n",
    "\n",
    "#Geo Imports\n",
    "import geopandas as gp\n",
    "from arcgis.gis import GIS\n",
    "from arcgis.features import GeoAccessor, GeoSeriesAccessor\n",
    "from arcgis.features import FeatureLayerCollection"
   ]
  },
  {
   "cell_type": "markdown",
   "metadata": {},
   "source": [
    "# EIR Growth Summaries\n",
    "\n",
    "## Table of Contents \n"
   ]
  },
  {
   "cell_type": "markdown",
   "metadata": {},
   "source": [
    "## Pre-Processing Steps <a name='preprocessing'><a/>"
   ]
  },
  {
   "cell_type": "code",
   "execution_count": 2,
   "metadata": {},
   "outputs": [],
   "source": [
    "#Create GIS client using internal portal credentials \n",
    "password = os.environ.get('portal_pass')\n",
    "gis = GIS(\"https://arcgis.ad.mtc.ca.gov/portal/\", \"jcroff\", password)"
   ]
  },
  {
   "cell_type": "code",
   "execution_count": 3,
   "metadata": {},
   "outputs": [],
   "source": [
    "#Pull growth geographies from portal\n",
    "growth_geo_gdf = pull_geodata_from_argis('3922afc70d3a4475a98e6ae9973f2bfb',client=gis)"
   ]
  },
  {
   "cell_type": "code",
   "execution_count": 4,
   "metadata": {},
   "outputs": [
    {
     "data": {
      "text/plain": [
       "<Geographic 2D CRS: EPSG:4326>\n",
       "Name: WGS 84\n",
       "Axis Info [ellipsoidal]:\n",
       "- Lat[north]: Geodetic latitude (degree)\n",
       "- Lon[east]: Geodetic longitude (degree)\n",
       "Area of Use:\n",
       "- name: World\n",
       "- bounds: (-180.0, -90.0, 180.0, 90.0)\n",
       "Datum: World Geodetic System 1984\n",
       "- Ellipsoid: WGS 84\n",
       "- Prime Meridian: Greenwich"
      ]
     },
     "execution_count": 4,
     "metadata": {},
     "output_type": "execute_result"
    }
   ],
   "source": [
    "growth_geo_gdf.crs"
   ]
  },
  {
   "cell_type": "code",
   "execution_count": 5,
   "metadata": {},
   "outputs": [
    {
     "data": {
      "text/plain": [
       "(4636, 7)"
      ]
     },
     "execution_count": 5,
     "metadata": {},
     "output_type": "execute_result"
    }
   ],
   "source": [
    "growth_geo_gdf.shape"
   ]
  },
  {
   "cell_type": "code",
   "execution_count": 6,
   "metadata": {},
   "outputs": [],
   "source": [
    "#Pull counties from portal\n",
    "bay_counties_gdf = pull_geodata_from_argis('0f39d9cf0b4f4b1380282315b09d5a23',client=gis)"
   ]
  },
  {
   "cell_type": "code",
   "execution_count": 7,
   "metadata": {},
   "outputs": [
    {
     "data": {
      "text/plain": [
       "<Geographic 2D CRS: EPSG:4326>\n",
       "Name: WGS 84\n",
       "Axis Info [ellipsoidal]:\n",
       "- Lat[north]: Geodetic latitude (degree)\n",
       "- Lon[east]: Geodetic longitude (degree)\n",
       "Area of Use:\n",
       "- name: World\n",
       "- bounds: (-180.0, -90.0, 180.0, 90.0)\n",
       "Datum: World Geodetic System 1984\n",
       "- Ellipsoid: WGS 84\n",
       "- Prime Meridian: Greenwich"
      ]
     },
     "execution_count": 7,
     "metadata": {},
     "output_type": "execute_result"
    }
   ],
   "source": [
    "bay_counties_gdf.crs"
   ]
  },
  {
   "cell_type": "code",
   "execution_count": 8,
   "metadata": {},
   "outputs": [
    {
     "name": "stdout",
     "output_type": "stream",
     "text": [
      "<class 'geopandas.geodataframe.GeoDataFrame'>\n",
      "RangeIndex: 9 entries, 0 to 8\n",
      "Data columns (total 22 columns):\n",
      " #   Column         Non-Null Count  Dtype   \n",
      "---  ------         --------------  -----   \n",
      " 0   objectid       9 non-null      int64   \n",
      " 1   id             9 non-null      float64 \n",
      " 2   feattyp        9 non-null      int64   \n",
      " 3   order00        9 non-null      object  \n",
      " 4   order01        9 non-null      object  \n",
      " 5   order02        9 non-null      object  \n",
      " 6   order03        9 non-null      object  \n",
      " 7   order04        9 non-null      object  \n",
      " 8   order05        9 non-null      object  \n",
      " 9   order06        9 non-null      object  \n",
      " 10  order07        9 non-null      object  \n",
      " 11  order08        9 non-null      object  \n",
      " 12  featarea       9 non-null      float64 \n",
      " 13  featperim      9 non-null      float64 \n",
      " 14  name           9 non-null      object  \n",
      " 15  namelc         9 non-null      object  \n",
      " 16  popclass       9 non-null      int64   \n",
      " 17  pop            9 non-null      float64 \n",
      " 18  citycenter     9 non-null      float64 \n",
      " 19  SHAPE__Length  9 non-null      float64 \n",
      " 20  SHAPE__Area    9 non-null      float64 \n",
      " 21  geom           9 non-null      geometry\n",
      "dtypes: float64(7), geometry(1), int64(3), object(11)\n",
      "memory usage: 1.7+ KB\n"
     ]
    }
   ],
   "source": [
    "bay_counties_gdf.info()"
   ]
  },
  {
   "cell_type": "markdown",
   "metadata": {},
   "source": [
    "## Dissolve growth geographies into one feature"
   ]
  },
  {
   "cell_type": "code",
   "execution_count": 35,
   "metadata": {},
   "outputs": [],
   "source": [
    "#Create dissolve field\n",
    "growth_geo_gdf['gg'] = True"
   ]
  },
  {
   "cell_type": "code",
   "execution_count": 36,
   "metadata": {},
   "outputs": [
    {
     "data": {
      "text/html": [
       "<div>\n",
       "<style scoped>\n",
       "    .dataframe tbody tr th:only-of-type {\n",
       "        vertical-align: middle;\n",
       "    }\n",
       "\n",
       "    .dataframe tbody tr th {\n",
       "        vertical-align: top;\n",
       "    }\n",
       "\n",
       "    .dataframe thead th {\n",
       "        text-align: right;\n",
       "    }\n",
       "</style>\n",
       "<table border=\"1\" class=\"dataframe\">\n",
       "  <thead>\n",
       "    <tr style=\"text-align: right;\">\n",
       "      <th></th>\n",
       "      <th>SHAPE__Area</th>\n",
       "      <th>SHAPE__Length</th>\n",
       "      <th>area_name</th>\n",
       "      <th>designatio</th>\n",
       "      <th>jurisdicti</th>\n",
       "      <th>objectid</th>\n",
       "      <th>geom</th>\n",
       "      <th>gg</th>\n",
       "    </tr>\n",
       "  </thead>\n",
       "  <tbody>\n",
       "    <tr>\n",
       "      <th>0</th>\n",
       "      <td>0.001593</td>\n",
       "      <td>0.409479</td>\n",
       "      <td>Hayward PPA</td>\n",
       "      <td>Priority Production Area</td>\n",
       "      <td>Hayward</td>\n",
       "      <td>1</td>\n",
       "      <td>MULTIPOLYGON (((-122.07662 37.61741, -122.0745...</td>\n",
       "      <td>True</td>\n",
       "    </tr>\n",
       "    <tr>\n",
       "      <th>1</th>\n",
       "      <td>0.000468</td>\n",
       "      <td>0.156762</td>\n",
       "      <td>Pacific Commons Priority Production Area</td>\n",
       "      <td>Priority Production Area</td>\n",
       "      <td>Fremont</td>\n",
       "      <td>2</td>\n",
       "      <td>MULTIPOLYGON (((-121.96581 37.50549, -121.9641...</td>\n",
       "      <td>True</td>\n",
       "    </tr>\n",
       "    <tr>\n",
       "      <th>2</th>\n",
       "      <td>0.000636</td>\n",
       "      <td>0.166956</td>\n",
       "      <td>Bayside Industrial Priority Production Area</td>\n",
       "      <td>Priority Production Area</td>\n",
       "      <td>Fremont</td>\n",
       "      <td>3</td>\n",
       "      <td>MULTIPOLYGON (((-121.94969 37.49213, -121.9496...</td>\n",
       "      <td>True</td>\n",
       "    </tr>\n",
       "    <tr>\n",
       "      <th>3</th>\n",
       "      <td>0.000124</td>\n",
       "      <td>0.045386</td>\n",
       "      <td>Westside PPA</td>\n",
       "      <td>Priority Production Area</td>\n",
       "      <td>Livermore</td>\n",
       "      <td>4</td>\n",
       "      <td>MULTIPOLYGON (((-121.81473 37.67526, -121.8145...</td>\n",
       "      <td>True</td>\n",
       "    </tr>\n",
       "    <tr>\n",
       "      <th>4</th>\n",
       "      <td>0.000040</td>\n",
       "      <td>0.028528</td>\n",
       "      <td>Western Concord PPA</td>\n",
       "      <td>Priority Production Area</td>\n",
       "      <td>Concord</td>\n",
       "      <td>5</td>\n",
       "      <td>MULTIPOLYGON (((-122.02708 37.95350, -122.0270...</td>\n",
       "      <td>True</td>\n",
       "    </tr>\n",
       "  </tbody>\n",
       "</table>\n",
       "</div>"
      ],
      "text/plain": [
       "   SHAPE__Area  SHAPE__Length                                    area_name  \\\n",
       "0     0.001593       0.409479                                  Hayward PPA   \n",
       "1     0.000468       0.156762     Pacific Commons Priority Production Area   \n",
       "2     0.000636       0.166956  Bayside Industrial Priority Production Area   \n",
       "3     0.000124       0.045386                                 Westside PPA   \n",
       "4     0.000040       0.028528                          Western Concord PPA   \n",
       "\n",
       "                 designatio jurisdicti  objectid  \\\n",
       "0  Priority Production Area    Hayward         1   \n",
       "1  Priority Production Area    Fremont         2   \n",
       "2  Priority Production Area    Fremont         3   \n",
       "3  Priority Production Area  Livermore         4   \n",
       "4  Priority Production Area    Concord         5   \n",
       "\n",
       "                                                geom    gg  \n",
       "0  MULTIPOLYGON (((-122.07662 37.61741, -122.0745...  True  \n",
       "1  MULTIPOLYGON (((-121.96581 37.50549, -121.9641...  True  \n",
       "2  MULTIPOLYGON (((-121.94969 37.49213, -121.9496...  True  \n",
       "3  MULTIPOLYGON (((-121.81473 37.67526, -121.8145...  True  \n",
       "4  MULTIPOLYGON (((-122.02708 37.95350, -122.0270...  True  "
      ]
     },
     "execution_count": 36,
     "metadata": {},
     "output_type": "execute_result"
    }
   ],
   "source": [
    "growth_geo_gdf.head(5)"
   ]
  },
  {
   "cell_type": "code",
   "execution_count": 38,
   "metadata": {},
   "outputs": [
    {
     "data": {
      "image/png": "[encoded data removed]",
      "text/plain": [
       "<Figure size 720x720 with 1 Axes>"
      ]
     },
     "metadata": {
      "needs_background": "light"
     },
     "output_type": "display_data"
    }
   ],
   "source": [
    "growth_geo_gdf.plot(figsize=(10,10));"
   ]
  },
  {
   "cell_type": "code",
   "execution_count": 39,
   "metadata": {},
   "outputs": [
    {
     "data": {
      "text/plain": [
       "(4636, 8)"
      ]
     },
     "execution_count": 39,
     "metadata": {},
     "output_type": "execute_result"
    }
   ],
   "source": [
    "growth_geo_gdf.shape"
   ]
  },
  {
   "cell_type": "code",
   "execution_count": 40,
   "metadata": {},
   "outputs": [],
   "source": [
    "#Dissolve growth geography by dissolve field \n",
    "growth_geo_diss_gdf = growth_geo_gdf[['gg','geom']].dissolve(by='gg').reset_index()"
   ]
  },
  {
   "cell_type": "code",
   "execution_count": 41,
   "metadata": {},
   "outputs": [
    {
     "data": {
      "image/png": "[encoded data removed]",
      "text/plain": [
       "<Figure size 720x720 with 1 Axes>"
      ]
     },
     "metadata": {
      "needs_background": "light"
     },
     "output_type": "display_data"
    }
   ],
   "source": [
    "growth_geo_diss_gdf.plot(figsize=(10,10));"
   ]
  },
  {
   "cell_type": "code",
   "execution_count": 42,
   "metadata": {},
   "outputs": [
    {
     "data": {
      "text/plain": [
       "(1, 2)"
      ]
     },
     "execution_count": 42,
     "metadata": {},
     "output_type": "execute_result"
    }
   ],
   "source": [
    "growth_geo_diss_gdf.shape"
   ]
  },
  {
   "cell_type": "markdown",
   "metadata": {},
   "source": [
    "## Overlay Counties and TPAs"
   ]
  },
  {
   "cell_type": "code",
   "execution_count": 43,
   "metadata": {},
   "outputs": [],
   "source": [
    "growth_geo_cty = gp.overlay(bay_counties_gdf[['name','geom']],growth_geo_diss_gdf,how='identity')"
   ]
  },
  {
   "cell_type": "code",
   "execution_count": 44,
   "metadata": {},
   "outputs": [
    {
     "name": "stdout",
     "output_type": "stream",
     "text": [
      "<class 'geopandas.geodataframe.GeoDataFrame'>\n",
      "RangeIndex: 18 entries, 0 to 17\n",
      "Data columns (total 3 columns):\n",
      " #   Column    Non-Null Count  Dtype   \n",
      "---  ------    --------------  -----   \n",
      " 0   name      18 non-null     object  \n",
      " 1   gg        9 non-null      object  \n",
      " 2   geometry  18 non-null     geometry\n",
      "dtypes: geometry(1), object(2)\n",
      "memory usage: 560.0+ bytes\n"
     ]
    }
   ],
   "source": [
    "growth_geo_cty.info()"
   ]
  },
  {
   "cell_type": "code",
   "execution_count": 45,
   "metadata": {},
   "outputs": [
    {
     "data": {
      "text/html": [
       "<div>\n",
       "<style scoped>\n",
       "    .dataframe tbody tr th:only-of-type {\n",
       "        vertical-align: middle;\n",
       "    }\n",
       "\n",
       "    .dataframe tbody tr th {\n",
       "        vertical-align: top;\n",
       "    }\n",
       "\n",
       "    .dataframe thead th {\n",
       "        text-align: right;\n",
       "    }\n",
       "</style>\n",
       "<table border=\"1\" class=\"dataframe\">\n",
       "  <thead>\n",
       "    <tr style=\"text-align: right;\">\n",
       "      <th></th>\n",
       "      <th>name</th>\n",
       "      <th>gg</th>\n",
       "      <th>geometry</th>\n",
       "    </tr>\n",
       "  </thead>\n",
       "  <tbody>\n",
       "    <tr>\n",
       "      <th>0</th>\n",
       "      <td>Sonoma</td>\n",
       "      <td>True</td>\n",
       "      <td>MULTIPOLYGON (((-122.48712 38.32621, -122.4870...</td>\n",
       "    </tr>\n",
       "    <tr>\n",
       "      <th>1</th>\n",
       "      <td>Marin</td>\n",
       "      <td>True</td>\n",
       "      <td>MULTIPOLYGON (((-122.46116 37.86919, -122.4622...</td>\n",
       "    </tr>\n",
       "    <tr>\n",
       "      <th>2</th>\n",
       "      <td>Napa</td>\n",
       "      <td>True</td>\n",
       "      <td>MULTIPOLYGON (((-122.25148 38.15528, -122.2521...</td>\n",
       "    </tr>\n",
       "    <tr>\n",
       "      <th>3</th>\n",
       "      <td>San Mateo</td>\n",
       "      <td>True</td>\n",
       "      <td>MULTIPOLYGON (((-122.12684 37.47531, -122.1266...</td>\n",
       "    </tr>\n",
       "    <tr>\n",
       "      <th>4</th>\n",
       "      <td>San Francisco</td>\n",
       "      <td>True</td>\n",
       "      <td>MULTIPOLYGON (((-122.50761 37.75661, -122.5077...</td>\n",
       "    </tr>\n",
       "  </tbody>\n",
       "</table>\n",
       "</div>"
      ],
      "text/plain": [
       "            name    gg                                           geometry\n",
       "0         Sonoma  True  MULTIPOLYGON (((-122.48712 38.32621, -122.4870...\n",
       "1          Marin  True  MULTIPOLYGON (((-122.46116 37.86919, -122.4622...\n",
       "2           Napa  True  MULTIPOLYGON (((-122.25148 38.15528, -122.2521...\n",
       "3      San Mateo  True  MULTIPOLYGON (((-122.12684 37.47531, -122.1266...\n",
       "4  San Francisco  True  MULTIPOLYGON (((-122.50761 37.75661, -122.5077..."
      ]
     },
     "execution_count": 45,
     "metadata": {},
     "output_type": "execute_result"
    }
   ],
   "source": [
    "growth_geo_cty.head(5)"
   ]
  },
  {
   "cell_type": "code",
   "execution_count": 46,
   "metadata": {},
   "outputs": [],
   "source": [
    "#Fill nan values with False\n",
    "growth_geo_cty['gg'] = growth_geo_cty['gg'].fillna(value=False)"
   ]
  },
  {
   "cell_type": "markdown",
   "metadata": {},
   "source": [
    "## Summarize by county and tpa\n",
    "\n",
    "Geodataframe should be projected to WGS84 UTM Z 10N (EPSG:32610), staying in the WGS datum to avoid datum transformation step"
   ]
  },
  {
   "cell_type": "code",
   "execution_count": 47,
   "metadata": {},
   "outputs": [],
   "source": [
    "growth_geo_cty_proj = growth_geo_cty.to_crs(crs=('EPSG:32610'))"
   ]
  },
  {
   "cell_type": "code",
   "execution_count": 48,
   "metadata": {},
   "outputs": [
    {
     "data": {
      "text/plain": [
       "<Projected CRS: EPSG:32610>\n",
       "Name: WGS 84 / UTM zone 10N\n",
       "Axis Info [cartesian]:\n",
       "- E[east]: Easting (metre)\n",
       "- N[north]: Northing (metre)\n",
       "Area of Use:\n",
       "- name: World - N hemisphere - 126°W to 120°W - by country\n",
       "- bounds: (-126.0, 0.0, -120.0, 84.0)\n",
       "Coordinate Operation:\n",
       "- name: UTM zone 10N\n",
       "- method: Transverse Mercator\n",
       "Datum: World Geodetic System 1984\n",
       "- Ellipsoid: WGS 84\n",
       "- Prime Meridian: Greenwich"
      ]
     },
     "execution_count": 48,
     "metadata": {},
     "output_type": "execute_result"
    }
   ],
   "source": [
    "growth_geo_cty_proj.crs"
   ]
  },
  {
   "cell_type": "code",
   "execution_count": 49,
   "metadata": {},
   "outputs": [],
   "source": [
    "growth_geo_cty_proj['acres'] = growth_geo_cty_proj['geometry'].area * 0.0002471054"
   ]
  },
  {
   "cell_type": "code",
   "execution_count": 50,
   "metadata": {},
   "outputs": [
    {
     "data": {
      "text/html": [
       "<div>\n",
       "<style scoped>\n",
       "    .dataframe tbody tr th:only-of-type {\n",
       "        vertical-align: middle;\n",
       "    }\n",
       "\n",
       "    .dataframe tbody tr th {\n",
       "        vertical-align: top;\n",
       "    }\n",
       "\n",
       "    .dataframe thead th {\n",
       "        text-align: right;\n",
       "    }\n",
       "</style>\n",
       "<table border=\"1\" class=\"dataframe\">\n",
       "  <thead>\n",
       "    <tr style=\"text-align: right;\">\n",
       "      <th></th>\n",
       "      <th>name</th>\n",
       "      <th>gg</th>\n",
       "      <th>geometry</th>\n",
       "      <th>acres</th>\n",
       "    </tr>\n",
       "  </thead>\n",
       "  <tbody>\n",
       "    <tr>\n",
       "      <th>0</th>\n",
       "      <td>Sonoma</td>\n",
       "      <td>True</td>\n",
       "      <td>MULTIPOLYGON (((544829.347 4242133.916, 544837...</td>\n",
       "      <td>12452.118148</td>\n",
       "    </tr>\n",
       "    <tr>\n",
       "      <th>1</th>\n",
       "      <td>Marin</td>\n",
       "      <td>True</td>\n",
       "      <td>MULTIPOLYGON (((547393.173 4191437.801, 547293...</td>\n",
       "      <td>6748.378610</td>\n",
       "    </tr>\n",
       "    <tr>\n",
       "      <th>2</th>\n",
       "      <td>Napa</td>\n",
       "      <td>True</td>\n",
       "      <td>MULTIPOLYGON (((565580.011 4223308.661, 565519...</td>\n",
       "      <td>2080.720237</td>\n",
       "    </tr>\n",
       "    <tr>\n",
       "      <th>3</th>\n",
       "      <td>San Mateo</td>\n",
       "      <td>True</td>\n",
       "      <td>MULTIPOLYGON (((577204.620 4147960.449, 577218...</td>\n",
       "      <td>19929.436689</td>\n",
       "    </tr>\n",
       "    <tr>\n",
       "      <th>4</th>\n",
       "      <td>San Francisco</td>\n",
       "      <td>True</td>\n",
       "      <td>MULTIPOLYGON (((543373.553 4178925.234, 543365...</td>\n",
       "      <td>19569.639734</td>\n",
       "    </tr>\n",
       "  </tbody>\n",
       "</table>\n",
       "</div>"
      ],
      "text/plain": [
       "            name    gg                                           geometry  \\\n",
       "0         Sonoma  True  MULTIPOLYGON (((544829.347 4242133.916, 544837...   \n",
       "1          Marin  True  MULTIPOLYGON (((547393.173 4191437.801, 547293...   \n",
       "2           Napa  True  MULTIPOLYGON (((565580.011 4223308.661, 565519...   \n",
       "3      San Mateo  True  MULTIPOLYGON (((577204.620 4147960.449, 577218...   \n",
       "4  San Francisco  True  MULTIPOLYGON (((543373.553 4178925.234, 543365...   \n",
       "\n",
       "          acres  \n",
       "0  12452.118148  \n",
       "1   6748.378610  \n",
       "2   2080.720237  \n",
       "3  19929.436689  \n",
       "4  19569.639734  "
      ]
     },
     "execution_count": 50,
     "metadata": {},
     "output_type": "execute_result"
    }
   ],
   "source": [
    "growth_geo_cty_proj.head(5)"
   ]
  },
  {
   "cell_type": "code",
   "execution_count": 52,
   "metadata": {},
   "outputs": [
    {
     "data": {
      "text/html": [
       "<div>\n",
       "<style scoped>\n",
       "    .dataframe tbody tr th:only-of-type {\n",
       "        vertical-align: middle;\n",
       "    }\n",
       "\n",
       "    .dataframe tbody tr th {\n",
       "        vertical-align: top;\n",
       "    }\n",
       "\n",
       "    .dataframe thead th {\n",
       "        text-align: right;\n",
       "    }\n",
       "</style>\n",
       "<table border=\"1\" class=\"dataframe\">\n",
       "  <thead>\n",
       "    <tr style=\"text-align: right;\">\n",
       "      <th></th>\n",
       "      <th>name</th>\n",
       "      <th>gg</th>\n",
       "      <th>geometry</th>\n",
       "      <th>acres</th>\n",
       "    </tr>\n",
       "  </thead>\n",
       "  <tbody>\n",
       "    <tr>\n",
       "      <th>9</th>\n",
       "      <td>Sonoma</td>\n",
       "      <td>False</td>\n",
       "      <td>MULTIPOLYGON (((557234.888 4214144.224, 556086...</td>\n",
       "      <td>1.118147e+06</td>\n",
       "    </tr>\n",
       "    <tr>\n",
       "      <th>10</th>\n",
       "      <td>Marin</td>\n",
       "      <td>False</td>\n",
       "      <td>MULTIPOLYGON (((542527.256 4186465.538, 542447...</td>\n",
       "      <td>5.228924e+05</td>\n",
       "    </tr>\n",
       "    <tr>\n",
       "      <th>11</th>\n",
       "      <td>Napa</td>\n",
       "      <td>False</td>\n",
       "      <td>MULTIPOLYGON (((568245.024 4223298.910, 567422...</td>\n",
       "      <td>5.021428e+05</td>\n",
       "    </tr>\n",
       "    <tr>\n",
       "      <th>12</th>\n",
       "      <td>San Mateo</td>\n",
       "      <td>False</td>\n",
       "      <td>MULTIPOLYGON (((548497.374 4173584.990, 548497...</td>\n",
       "      <td>4.539734e+05</td>\n",
       "    </tr>\n",
       "    <tr>\n",
       "      <th>13</th>\n",
       "      <td>San Francisco</td>\n",
       "      <td>False</td>\n",
       "      <td>MULTIPOLYGON (((539474.575 4173435.690, 538543...</td>\n",
       "      <td>6.750145e+04</td>\n",
       "    </tr>\n",
       "    <tr>\n",
       "      <th>14</th>\n",
       "      <td>Santa Clara</td>\n",
       "      <td>False</td>\n",
       "      <td>MULTIPOLYGON (((573284.219 4143867.045, 573284...</td>\n",
       "      <td>7.767125e+05</td>\n",
       "    </tr>\n",
       "    <tr>\n",
       "      <th>15</th>\n",
       "      <td>Alameda</td>\n",
       "      <td>False</td>\n",
       "      <td>MULTIPOLYGON (((560772.128 4194023.223, 560781...</td>\n",
       "      <td>4.614262e+05</td>\n",
       "    </tr>\n",
       "    <tr>\n",
       "      <th>16</th>\n",
       "      <td>Contra Costa</td>\n",
       "      <td>False</td>\n",
       "      <td>MULTIPOLYGON (((556194.293 4196029.569, 556194...</td>\n",
       "      <td>4.775421e+05</td>\n",
       "    </tr>\n",
       "    <tr>\n",
       "      <th>17</th>\n",
       "      <td>Solano</td>\n",
       "      <td>False</td>\n",
       "      <td>MULTIPOLYGON (((574870.769 4209676.664, 574861...</td>\n",
       "      <td>5.661542e+05</td>\n",
       "    </tr>\n",
       "  </tbody>\n",
       "</table>\n",
       "</div>"
      ],
      "text/plain": [
       "             name     gg                                           geometry  \\\n",
       "9          Sonoma  False  MULTIPOLYGON (((557234.888 4214144.224, 556086...   \n",
       "10          Marin  False  MULTIPOLYGON (((542527.256 4186465.538, 542447...   \n",
       "11           Napa  False  MULTIPOLYGON (((568245.024 4223298.910, 567422...   \n",
       "12      San Mateo  False  MULTIPOLYGON (((548497.374 4173584.990, 548497...   \n",
       "13  San Francisco  False  MULTIPOLYGON (((539474.575 4173435.690, 538543...   \n",
       "14    Santa Clara  False  MULTIPOLYGON (((573284.219 4143867.045, 573284...   \n",
       "15        Alameda  False  MULTIPOLYGON (((560772.128 4194023.223, 560781...   \n",
       "16   Contra Costa  False  MULTIPOLYGON (((556194.293 4196029.569, 556194...   \n",
       "17         Solano  False  MULTIPOLYGON (((574870.769 4209676.664, 574861...   \n",
       "\n",
       "           acres  \n",
       "9   1.118147e+06  \n",
       "10  5.228924e+05  \n",
       "11  5.021428e+05  \n",
       "12  4.539734e+05  \n",
       "13  6.750145e+04  \n",
       "14  7.767125e+05  \n",
       "15  4.614262e+05  \n",
       "16  4.775421e+05  \n",
       "17  5.661542e+05  "
      ]
     },
     "execution_count": 52,
     "metadata": {},
     "output_type": "execute_result"
    }
   ],
   "source": [
    "growth_geo_cty_proj[growth_geo_cty_proj['gg'] == False]"
   ]
  },
  {
   "cell_type": "code",
   "execution_count": 64,
   "metadata": {},
   "outputs": [],
   "source": [
    "growth_geo_cty_proj_sum = (growth_geo_cty_proj[['name','gg','acres']]\n",
    "                           .groupby(['name','gg'])\n",
    "                           .aggregate(func='sum').reset_index())"
   ]
  },
  {
   "cell_type": "code",
   "execution_count": 65,
   "metadata": {},
   "outputs": [
    {
     "data": {
      "text/html": [
       "<div>\n",
       "<style scoped>\n",
       "    .dataframe tbody tr th:only-of-type {\n",
       "        vertical-align: middle;\n",
       "    }\n",
       "\n",
       "    .dataframe tbody tr th {\n",
       "        vertical-align: top;\n",
       "    }\n",
       "\n",
       "    .dataframe thead th {\n",
       "        text-align: right;\n",
       "    }\n",
       "</style>\n",
       "<table border=\"1\" class=\"dataframe\">\n",
       "  <thead>\n",
       "    <tr style=\"text-align: right;\">\n",
       "      <th></th>\n",
       "      <th>name</th>\n",
       "      <th>gg</th>\n",
       "      <th>acres</th>\n",
       "    </tr>\n",
       "  </thead>\n",
       "  <tbody>\n",
       "    <tr>\n",
       "      <th>0</th>\n",
       "      <td>Alameda</td>\n",
       "      <td>False</td>\n",
       "      <td>4.614262e+05</td>\n",
       "    </tr>\n",
       "    <tr>\n",
       "      <th>1</th>\n",
       "      <td>Alameda</td>\n",
       "      <td>True</td>\n",
       "      <td>6.377241e+04</td>\n",
       "    </tr>\n",
       "    <tr>\n",
       "      <th>2</th>\n",
       "      <td>Contra Costa</td>\n",
       "      <td>False</td>\n",
       "      <td>4.775421e+05</td>\n",
       "    </tr>\n",
       "    <tr>\n",
       "      <th>3</th>\n",
       "      <td>Contra Costa</td>\n",
       "      <td>True</td>\n",
       "      <td>3.733992e+04</td>\n",
       "    </tr>\n",
       "    <tr>\n",
       "      <th>4</th>\n",
       "      <td>Marin</td>\n",
       "      <td>False</td>\n",
       "      <td>5.228924e+05</td>\n",
       "    </tr>\n",
       "    <tr>\n",
       "      <th>5</th>\n",
       "      <td>Marin</td>\n",
       "      <td>True</td>\n",
       "      <td>6.748379e+03</td>\n",
       "    </tr>\n",
       "    <tr>\n",
       "      <th>6</th>\n",
       "      <td>Napa</td>\n",
       "      <td>False</td>\n",
       "      <td>5.021428e+05</td>\n",
       "    </tr>\n",
       "    <tr>\n",
       "      <th>7</th>\n",
       "      <td>Napa</td>\n",
       "      <td>True</td>\n",
       "      <td>2.080720e+03</td>\n",
       "    </tr>\n",
       "    <tr>\n",
       "      <th>8</th>\n",
       "      <td>San Francisco</td>\n",
       "      <td>False</td>\n",
       "      <td>6.750145e+04</td>\n",
       "    </tr>\n",
       "    <tr>\n",
       "      <th>9</th>\n",
       "      <td>San Francisco</td>\n",
       "      <td>True</td>\n",
       "      <td>1.956964e+04</td>\n",
       "    </tr>\n",
       "    <tr>\n",
       "      <th>10</th>\n",
       "      <td>San Mateo</td>\n",
       "      <td>False</td>\n",
       "      <td>4.539734e+05</td>\n",
       "    </tr>\n",
       "    <tr>\n",
       "      <th>11</th>\n",
       "      <td>San Mateo</td>\n",
       "      <td>True</td>\n",
       "      <td>1.992944e+04</td>\n",
       "    </tr>\n",
       "    <tr>\n",
       "      <th>12</th>\n",
       "      <td>Santa Clara</td>\n",
       "      <td>False</td>\n",
       "      <td>7.767125e+05</td>\n",
       "    </tr>\n",
       "    <tr>\n",
       "      <th>13</th>\n",
       "      <td>Santa Clara</td>\n",
       "      <td>True</td>\n",
       "      <td>5.745553e+04</td>\n",
       "    </tr>\n",
       "    <tr>\n",
       "      <th>14</th>\n",
       "      <td>Solano</td>\n",
       "      <td>False</td>\n",
       "      <td>5.661542e+05</td>\n",
       "    </tr>\n",
       "    <tr>\n",
       "      <th>15</th>\n",
       "      <td>Solano</td>\n",
       "      <td>True</td>\n",
       "      <td>1.361272e+04</td>\n",
       "    </tr>\n",
       "    <tr>\n",
       "      <th>16</th>\n",
       "      <td>Sonoma</td>\n",
       "      <td>False</td>\n",
       "      <td>1.118147e+06</td>\n",
       "    </tr>\n",
       "    <tr>\n",
       "      <th>17</th>\n",
       "      <td>Sonoma</td>\n",
       "      <td>True</td>\n",
       "      <td>1.245212e+04</td>\n",
       "    </tr>\n",
       "  </tbody>\n",
       "</table>\n",
       "</div>"
      ],
      "text/plain": [
       "             name     gg         acres\n",
       "0         Alameda  False  4.614262e+05\n",
       "1         Alameda   True  6.377241e+04\n",
       "2    Contra Costa  False  4.775421e+05\n",
       "3    Contra Costa   True  3.733992e+04\n",
       "4           Marin  False  5.228924e+05\n",
       "5           Marin   True  6.748379e+03\n",
       "6            Napa  False  5.021428e+05\n",
       "7            Napa   True  2.080720e+03\n",
       "8   San Francisco  False  6.750145e+04\n",
       "9   San Francisco   True  1.956964e+04\n",
       "10      San Mateo  False  4.539734e+05\n",
       "11      San Mateo   True  1.992944e+04\n",
       "12    Santa Clara  False  7.767125e+05\n",
       "13    Santa Clara   True  5.745553e+04\n",
       "14         Solano  False  5.661542e+05\n",
       "15         Solano   True  1.361272e+04\n",
       "16         Sonoma  False  1.118147e+06\n",
       "17         Sonoma   True  1.245212e+04"
      ]
     },
     "execution_count": 65,
     "metadata": {},
     "output_type": "execute_result"
    }
   ],
   "source": [
    "growth_geo_cty_proj_sum"
   ]
  },
  {
   "cell_type": "code",
   "execution_count": 82,
   "metadata": {},
   "outputs": [],
   "source": [
    "#Pivot to keep county names as index and growth geography/tpa acre sums as values\n",
    "growth_geog_piv = growth_geo_cty_proj_sum.pivot(index='name', columns='gg', values='acres').reset_index()"
   ]
  },
  {
   "cell_type": "code",
   "execution_count": null,
   "metadata": {},
   "outputs": [],
   "source": []
  }
 ],
 "metadata": {
  "kernelspec": {
   "display_name": "Python 3",
   "language": "python",
   "name": "python3"
  },
  "language_info": {
   "codemirror_mode": {
    "name": "ipython",
    "version": 3
   },
   "file_extension": ".py",
   "mimetype": "text/x-python",
   "name": "python",
   "nbconvert_exporter": "python",
   "pygments_lexer": "ipython3",
   "version": "3.7.7"
  }
 },
 "nbformat": 4,
 "nbformat_minor": 4
}
